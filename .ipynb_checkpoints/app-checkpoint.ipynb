{
 "cells": [
  {
   "cell_type": "code",
   "execution_count": 34,
   "id": "addb9959",
   "metadata": {},
   "outputs": [],
   "source": [
    "import numpy as np\n",
    "from flask import Flask, request, jsonify, render_template\n",
    "import pickle\n",
    "import joblib\n",
    "import json\n",
    "from tensorflow import keras"
   ]
  },
  {
   "cell_type": "code",
   "execution_count": 35,
   "id": "54cee352",
   "metadata": {},
   "outputs": [],
   "source": [
    "# Create flask app\n",
    "flask_app = Flask(__name__)\n",
    "\n",
    "model =keras.models.load_model(\"my_h5_model.h5\")\n",
    "# model = pickle.load(open(\"model.pkl\",\"rb\"))"
   ]
  },
  {
   "cell_type": "code",
   "execution_count": 36,
   "id": "055030a6",
   "metadata": {},
   "outputs": [],
   "source": [
    "@flask_app.route(\"/\")\n",
    "def Home():\n",
    "    return render_template(\"index.html\")"
   ]
  },
  {
   "cell_type": "code",
   "execution_count": 37,
   "id": "37b4e0c7",
   "metadata": {},
   "outputs": [],
   "source": [
    "@flask_app.route(\"/predict2\", methods = [\"POST\"])\n",
    "def predict2():\n",
    "    print(request.get_json())\n",
    "    prediction = model.predict()\n",
    "# #     return render_template(\"index.html\", prediction_text = \"The flower species is {}\".format(prediction))\n",
    "#     return render_template(\"index.html\", value = json.dumps({prediction}))\n",
    "    return request.get_json()"
   ]
  },
  {
   "cell_type": "code",
   "execution_count": 38,
   "id": "be18d1f6",
   "metadata": {},
   "outputs": [
    {
     "name": "stdout",
     "output_type": "stream",
     "text": [
      " * Serving Flask app \"__main__\" (lazy loading)\n",
      " * Environment: production\n",
      "\u001b[31m   WARNING: This is a development server. Do not use it in a production deployment.\u001b[0m\n",
      "\u001b[2m   Use a production WSGI server instead.\u001b[0m\n",
      " * Debug mode: on\n"
     ]
    },
    {
     "name": "stderr",
     "output_type": "stream",
     "text": [
      " * Running on http://127.0.0.1:5000/ (Press CTRL+C to quit)\n",
      "127.0.0.1 - - [31/Aug/2022 01:39:31] \"POST /predict2 HTTP/1.1\" 200 -\n"
     ]
    },
    {
     "name": "stdout",
     "output_type": "stream",
     "text": [
      "{'commune': 'Alger Centre'}\n"
     ]
    }
   ],
   "source": [
    "if __name__ == \"__main__\":\n",
    "    flask_app.run(debug=True,use_reloader=False)"
   ]
  },
  {
   "cell_type": "code",
   "execution_count": null,
   "id": "3e890ca1",
   "metadata": {},
   "outputs": [],
   "source": []
  }
 ],
 "metadata": {
  "kernelspec": {
   "display_name": "Python 3 (ipykernel)",
   "language": "python",
   "name": "python3"
  },
  "language_info": {
   "codemirror_mode": {
    "name": "ipython",
    "version": 3
   },
   "file_extension": ".py",
   "mimetype": "text/x-python",
   "name": "python",
   "nbconvert_exporter": "python",
   "pygments_lexer": "ipython3",
   "version": "3.9.12"
  }
 },
 "nbformat": 4,
 "nbformat_minor": 5
}
