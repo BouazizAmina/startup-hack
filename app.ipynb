{
 "cells": [
  {
   "cell_type": "code",
   "execution_count": 166,
   "id": "addb9959",
   "metadata": {},
   "outputs": [],
   "source": [
    "import numpy as np\n",
    "import pandas as pd\n",
    "from flask import Flask, request, jsonify, render_template\n",
    "import pickle\n",
    "import joblib\n",
    "import json\n",
    "from tensorflow import keras"
   ]
  },
  {
   "cell_type": "code",
   "execution_count": 167,
   "id": "54cee352",
   "metadata": {},
   "outputs": [],
   "source": [
    "# Create flask app\n",
    "flask_app = Flask(__name__)\n",
    "\n",
    "model =keras.models.load_model(\"my_h5_model.h5\")\n",
    "# model = pickle.load(open(\"model.pkl\",\"rb\"))"
   ]
  },
  {
   "cell_type": "code",
   "execution_count": 168,
   "id": "055030a6",
   "metadata": {},
   "outputs": [],
   "source": [
    "@flask_app.route(\"/\")\n",
    "def Home():\n",
    "    return render_template(\"index.html\")"
   ]
  },
  {
   "cell_type": "code",
   "execution_count": 169,
   "id": "37b4e0c7",
   "metadata": {},
   "outputs": [],
   "source": [
    "@flask_app.route(\"/predict2\", methods = [\"POST\"])\n",
    "def predict():\n",
    "    x = request.get_json()[\"result_arr\"]\n",
    "    y = pd.DataFrame(columns=[\"K\" , \"N\" , \"P\",\"humidity\",\"ph\",\"rainfall\" , \"temperature\"])\n",
    "    y.loc[0]=x\n",
    "#     y = json.loads(x)\n",
    "    \n",
    "\n",
    "    prediction = model.predict(y)\n",
    "    print(prediction.tostring())\n",
    "# #     return render_template(\"index.html\", prediction_text = \"The flower species is {}\".format(prediction))\n",
    "#     return render_template(\"index.html\", value = json.dumps({prediction}))\n",
    "    return prediction.toList()"
   ]
  },
  {
   "cell_type": "code",
   "execution_count": null,
   "id": "be18d1f6",
   "metadata": {},
   "outputs": [
    {
     "name": "stdout",
     "output_type": "stream",
     "text": [
      " * Serving Flask app \"__main__\" (lazy loading)\n",
      " * Environment: production\n",
      "\u001b[31m   WARNING: This is a development server. Do not use it in a production deployment.\u001b[0m\n",
      "\u001b[2m   Use a production WSGI server instead.\u001b[0m\n",
      " * Debug mode: on\n"
     ]
    },
    {
     "name": "stderr",
     "output_type": "stream",
     "text": [
      " * Running on http://127.0.0.1:5000/ (Press CTRL+C to quit)\n"
     ]
    },
    {
     "name": "stdout",
     "output_type": "stream",
     "text": [
      "1/1 [==============================] - 0s 47ms/step\n"
     ]
    },
    {
     "name": "stderr",
     "output_type": "stream",
     "text": [
      "C:\\Users\\Expert Info\\AppData\\Local\\Temp\\ipykernel_5248\\3784764644.py:10: DeprecationWarning: tostring() is deprecated. Use tobytes() instead.\n",
      "  print(prediction.tostring())\n",
      "127.0.0.1 - - [31/Aug/2022 03:04:35] \"POST /predict2 HTTP/1.1\" 500 -\n"
     ]
    },
    {
     "name": "stdout",
     "output_type": "stream",
     "text": [
      "b'\\xda\\xbc\\x06*K$8$\\x9c\\x91\\x865NN8*\\x0eN\\x01&\\x02\\xbdm\\x1a\\xad\\x03\\xcf\\x17\\x0b\\xa1\\x16:\\x86?Z+\\x81\\x0c/?#z\\xb6-K\\x1e\\xaa\"\\x08\\x10\\x8a)\\x8e\\x9b\\xa1>w\\x1e\\xf6-\\xf5\\xf8\\x86-\\x85D\\x03\\'\\xf2\\x9f\\x08._\\x7fO2p\\x04X\\x1cq\\x9c\\x08!\\x8a\\xe8\\xe5\\x13'\n"
     ]
    },
    {
     "name": "stderr",
     "output_type": "stream",
     "text": [
      "Traceback (most recent call last):\n",
      "  File \"C:\\anaconda3\\Lib\\site-packages\\flask\\app.py\", line 2464, in __call__\n",
      "    return self.wsgi_app(environ, start_response)\n",
      "  File \"C:\\anaconda3\\Lib\\site-packages\\flask\\app.py\", line 2450, in wsgi_app\n",
      "    response = self.handle_exception(e)\n",
      "  File \"C:\\anaconda3\\Lib\\site-packages\\flask\\app.py\", line 1867, in handle_exception\n",
      "    reraise(exc_type, exc_value, tb)\n",
      "  File \"C:\\anaconda3\\Lib\\site-packages\\flask\\_compat.py\", line 39, in reraise\n",
      "    raise value\n",
      "  File \"C:\\anaconda3\\Lib\\site-packages\\flask\\app.py\", line 2447, in wsgi_app\n",
      "    response = self.full_dispatch_request()\n",
      "  File \"C:\\anaconda3\\Lib\\site-packages\\flask\\app.py\", line 1952, in full_dispatch_request\n",
      "    rv = self.handle_user_exception(e)\n",
      "  File \"C:\\anaconda3\\Lib\\site-packages\\flask\\app.py\", line 1821, in handle_user_exception\n",
      "    reraise(exc_type, exc_value, tb)\n",
      "  File \"C:\\anaconda3\\Lib\\site-packages\\flask\\_compat.py\", line 39, in reraise\n",
      "    raise value\n",
      "  File \"C:\\anaconda3\\Lib\\site-packages\\flask\\app.py\", line 1950, in full_dispatch_request\n",
      "    rv = self.dispatch_request()\n",
      "  File \"C:\\anaconda3\\Lib\\site-packages\\flask\\app.py\", line 1936, in dispatch_request\n",
      "    return self.view_functions[rule.endpoint](**req.view_args)\n",
      "  File \"C:\\Users\\Expert Info\\AppData\\Local\\Temp\\ipykernel_5248\\3784764644.py\", line 13, in predict\n",
      "    \n",
      "AttributeError: 'numpy.ndarray' object has no attribute 'toList'\n"
     ]
    }
   ],
   "source": [
    "if __name__ == \"__main__\":\n",
    "    flask_app.run(debug=True,use_reloader=False)"
   ]
  },
  {
   "cell_type": "code",
   "execution_count": null,
   "id": "3e890ca1",
   "metadata": {},
   "outputs": [],
   "source": []
  }
 ],
 "metadata": {
  "kernelspec": {
   "display_name": "Python 3 (ipykernel)",
   "language": "python",
   "name": "python3"
  },
  "language_info": {
   "codemirror_mode": {
    "name": "ipython",
    "version": 3
   },
   "file_extension": ".py",
   "mimetype": "text/x-python",
   "name": "python",
   "nbconvert_exporter": "python",
   "pygments_lexer": "ipython3",
   "version": "3.9.12"
  }
 },
 "nbformat": 4,
 "nbformat_minor": 5
}
