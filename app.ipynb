{
 "cells": [
  {
   "cell_type": "code",
   "execution_count": 274,
   "id": "addb9959",
   "metadata": {},
   "outputs": [],
   "source": [
    "import numpy as np\n",
    "import pandas as pd\n",
    "from flask import Flask, request, jsonify, render_template\n",
    "import pickle\n",
    "import joblib\n",
    "import json\n",
    "from tensorflow import keras\n",
    "from flask_cors import CORS\n",
    "from sklearn.preprocessing import StandardScaler, LabelEncoder\n",
    "le = LabelEncoder()\n"
   ]
  },
  {
   "cell_type": "code",
   "execution_count": 275,
   "id": "54cee352",
   "metadata": {},
   "outputs": [],
   "source": [
    "# Create flask app\n",
    "flask_app = Flask(__name__)\n",
    "CORS(flask_app)\n",
    "model =keras.models.load_model(\"my_h5_model.h5\")\n",
    "# model = pickle.load(open(\"model.pkl\",\"rb\"))"
   ]
  },
  {
   "cell_type": "code",
   "execution_count": 276,
   "id": "055030a6",
   "metadata": {},
   "outputs": [],
   "source": [
    "@flask_app.route(\"/\")\n",
    "def Home():\n",
    "    return render_template(\"index.html\")"
   ]
  },
  {
   "cell_type": "code",
   "execution_count": 277,
   "id": "37b4e0c7",
   "metadata": {},
   "outputs": [],
   "source": [
    "@flask_app.route(\"/predict2\", methods = [\"POST\"])\n",
    "def predict():\n",
    "    pkl_file = open('Departure_encoder.pkl', 'rb')\n",
    "    le_departure = pickle.load(pkl_file) \n",
    "    pkl_file.close()\n",
    "    x = request.get_json()[\"result_arr\"]\n",
    "    y = pd.DataFrame(columns=[\"N\" , \"P\" , \"K\",\"temperature\" , \"humidity\",\"ph\",\"rainfall\" ])\n",
    "    y.loc[0]=x\n",
    "    print(\"Y=\",y )\n",
    "\n",
    "#     y = json.loads(x)\n",
    "    \n",
    "\n",
    "    prediction = model.predict(y)\n",
    "    max3_values = np.argsort(prediction[0])[::-1]\n",
    "    classes = le_departure.inverse_transform(max3_values)\n",
    "    print(max3_values)\n",
    "    print(prediction.tostring())\n",
    "# #     return render_template(\"index.html\", prediction_text = \"The flower species is {}\".format(prediction))\n",
    "#     return render_template(\"index.html\", value = json.dumps({prediction}))\n",
    "    return jsonify(result=prediction.tolist()[0] , indexes=max3_values.tolist() , classes=classes.tolist())"
   ]
  },
  {
   "cell_type": "code",
   "execution_count": null,
   "id": "be18d1f6",
   "metadata": {},
   "outputs": [
    {
     "name": "stdout",
     "output_type": "stream",
     "text": [
      " * Serving Flask app \"__main__\" (lazy loading)\n",
      " * Environment: production\n",
      "\u001b[31m   WARNING: This is a development server. Do not use it in a production deployment.\u001b[0m\n",
      "\u001b[2m   Use a production WSGI server instead.\u001b[0m\n",
      " * Debug mode: on\n"
     ]
    },
    {
     "name": "stderr",
     "output_type": "stream",
     "text": [
      " * Running on all addresses.\n",
      "   WARNING: This is a development server. Do not use it in a production deployment.\n",
      " * Running on http://192.168.43.185:5000/ (Press CTRL+C to quit)\n",
      "192.168.43.205 - - [31/Aug/2022 09:14:02] \"OPTIONS //predict2 HTTP/1.1\" 200 -\n",
      "192.168.43.205 - - [31/Aug/2022 09:14:02] \"OPTIONS //predict2 HTTP/1.1\" 200 -\n"
     ]
    },
    {
     "name": "stdout",
     "output_type": "stream",
     "text": [
      "Y=       N     P     K  temperature  humidity   ph  rainfall\n",
      "0  40.0  20.0  80.0         25.0       NaN  6.0      80.6\n",
      "Y=       N     P     K  temperature  humidity   ph  rainfall\n",
      "0  40.0  20.0  80.0         25.0       NaN  6.0      80.6\n",
      "1/1 [==============================] - 0s 149ms/step\n",
      "1/1 [==============================] - 0s 152ms/step\n"
     ]
    },
    {
     "name": "stderr",
     "output_type": "stream",
     "text": [
      "C:\\Users\\Expert Info\\AppData\\Local\\Temp\\ipykernel_5248\\6600134.py:18: DeprecationWarning: tostring() is deprecated. Use tobytes() instead.\n",
      "  print(prediction.tostring())\n",
      "192.168.43.205 - - [31/Aug/2022 09:14:02] \"POST //predict2 HTTP/1.1\" 200 -\n",
      "192.168.43.205 - - [31/Aug/2022 09:14:02] \"POST //predict2 HTTP/1.1\" 200 -\n"
     ]
    },
    {
     "name": "stdout",
     "output_type": "stream",
     "text": [
      "[21 20  1  2  3  4  5  6  7  8  9 10 11 12 13 14 15 16 17 18 19  0]\n",
      "b'\\x00\\x00\\xc0\\x7f\\x00\\x00\\xc0\\x7f\\x00\\x00\\xc0\\x7f\\x00\\x00\\xc0\\x7f\\x00\\x00\\xc0\\x7f\\x00\\x00\\xc0\\x7f\\x00\\x00\\xc0\\x7f\\x00\\x00\\xc0\\x7f\\x00\\x00\\xc0\\x7f\\x00\\x00\\xc0\\x7f\\x00\\x00\\xc0\\x7f\\x00\\x00\\xc0\\x7f\\x00\\x00\\xc0\\x7f\\x00\\x00\\xc0\\x7f\\x00\\x00\\xc0\\x7f\\x00\\x00\\xc0\\x7f\\x00\\x00\\xc0\\x7f\\x00\\x00\\xc0\\x7f\\x00\\x00\\xc0\\x7f\\x00\\x00\\xc0\\x7f\\x00\\x00\\xc0\\x7f\\x00\\x00\\xc0\\x7f'\n",
      "[21 20  1  2  3  4  5  6  7  8  9 10 11 12 13 14 15 16 17 18 19  0]\n",
      "b'\\x00\\x00\\xc0\\x7f\\x00\\x00\\xc0\\x7f\\x00\\x00\\xc0\\x7f\\x00\\x00\\xc0\\x7f\\x00\\x00\\xc0\\x7f\\x00\\x00\\xc0\\x7f\\x00\\x00\\xc0\\x7f\\x00\\x00\\xc0\\x7f\\x00\\x00\\xc0\\x7f\\x00\\x00\\xc0\\x7f\\x00\\x00\\xc0\\x7f\\x00\\x00\\xc0\\x7f\\x00\\x00\\xc0\\x7f\\x00\\x00\\xc0\\x7f\\x00\\x00\\xc0\\x7f\\x00\\x00\\xc0\\x7f\\x00\\x00\\xc0\\x7f\\x00\\x00\\xc0\\x7f\\x00\\x00\\xc0\\x7f\\x00\\x00\\xc0\\x7f\\x00\\x00\\xc0\\x7f\\x00\\x00\\xc0\\x7f'\n"
     ]
    },
    {
     "name": "stderr",
     "output_type": "stream",
     "text": [
      "192.168.43.205 - - [31/Aug/2022 09:14:45] \"OPTIONS //predict2 HTTP/1.1\" 200 -\n",
      "192.168.43.205 - - [31/Aug/2022 09:14:45] \"OPTIONS //predict2 HTTP/1.1\" 200 -\n"
     ]
    },
    {
     "name": "stdout",
     "output_type": "stream",
     "text": [
      "Y=       N     P     K temperature humidity    ph rainfall\n",
      "0  None  None  None        None     None  None     None\n",
      "Y=       N     P     K temperature humidity    ph rainfall\n",
      "0  None  None  None        None     None  None     None\n"
     ]
    },
    {
     "name": "stderr",
     "output_type": "stream",
     "text": [
      "192.168.43.205 - - [31/Aug/2022 09:14:45] \"POST //predict2 HTTP/1.1\" 500 -\n",
      "192.168.43.205 - - [31/Aug/2022 09:14:45] \"Traceback (most recent call last):\n",
      "  File \"C:\\anaconda3\\Lib\\site-packages\\tensorflow\\python\\data\\util\\structure.py\", line 102, in normalize_element\n",
      "    spec = type_spec_from_value(t, use_fallback=False)\n",
      "  File \"C:\\anaconda3\\Lib\\site-packages\\tensorflow\\python\\data\\util\\structure.py\", line 485, in type_spec_from_value\n",
      "    raise TypeError(\"Could not build a `TypeSpec` for {} with type {}\".format(\n",
      "TypeError: Could not build a `TypeSpec` for       N     P     K temperature humidity    ph rainfall\n",
      "0  None  None  None        None     None  None     None with type DataFrame\n",
      "\n",
      "During handling of the above exception, another exception occurred:\n",
      "\n",
      "Traceback (most recent call last):\n",
      "  File \"C:\\anaconda3\\Lib\\site-packages\\flask\\app.py\", line 2464, in __call__\n",
      "    return self.wsgi_app(environ, start_response)\n",
      "  File \"C:\\anaconda3\\Lib\\site-packages\\flask\\app.py\", line 2450, in wsgi_app\n",
      "    response = self.handle_exception(e)\n",
      "  File \"C:\\anaconda3\\Lib\\site-packages\\flask_cors\\extension.py\", line 165, in wrapped_function\n",
      "    return cors_after_request(app.make_response(f(*args, **kwargs)))\n",
      "  File \"C:\\anaconda3\\Lib\\site-packages\\flask\\app.py\", line 1867, in handle_exception\n",
      "    reraise(exc_type, exc_value, tb)\n",
      "  File \"C:\\anaconda3\\Lib\\site-packages\\flask\\_compat.py\", line 39, in reraise\n",
      "    raise value\n",
      "  File \"C:\\anaconda3\\Lib\\site-packages\\flask\\app.py\", line 2447, in wsgi_app\n",
      "    response = self.full_dispatch_request()\n",
      "  File \"C:\\anaconda3\\Lib\\site-packages\\flask\\app.py\", line 1952, in full_dispatch_request\n",
      "    rv = self.handle_user_exception(e)\n",
      "  File \"C:\\anaconda3\\Lib\\site-packages\\flask_cors\\extension.py\", line 165, in wrapped_function\n",
      "    return cors_after_request(app.make_response(f(*args, **kwargs)))\n",
      "  File \"C:\\anaconda3\\Lib\\site-packages\\flask\\app.py\", line 1821, in handle_user_exception\n",
      "    reraise(exc_type, exc_value, tb)\n",
      "  File \"C:\\anaconda3\\Lib\\site-packages\\flask\\_compat.py\", line 39, in reraise\n",
      "    raise value\n",
      "  File \"C:\\anaconda3\\Lib\\site-packages\\flask\\app.py\", line 1950, in full_dispatch_request\n",
      "    rv = self.dispatch_request()\n",
      "  File \"C:\\anaconda3\\Lib\\site-packages\\flask\\app.py\", line 1936, in dispatch_request\n",
      "    return self.view_functions[rule.endpoint](**req.view_args)\n",
      "  File \"C:\\Users\\Expert Info\\AppData\\Local\\Temp\\ipykernel_5248\\6600134.py\", line 14, in predict\n",
      "    \n",
      "  File \"C:\\anaconda3\\Lib\\site-packages\\keras\\utils\\traceback_utils.py\", line 67, in error_handler\n",
      "    raise e.with_traceback(filtered_tb) from None\n",
      "  File \"C:\\anaconda3\\Lib\\site-packages\\tensorflow\\python\\framework\\constant_op.py\", line 102, in convert_to_eager_tensor\n",
      "    return ops.EagerTensor(value, ctx.device_name, dtype)\n",
      "ValueError: Failed to convert a NumPy array to a Tensor (Unsupported object type NoneType).\n",
      "POST //predict2 HTTP/1.1\" 500 -\n",
      "Traceback (most recent call last):\n",
      "  File \"C:\\anaconda3\\Lib\\site-packages\\tensorflow\\python\\data\\util\\structure.py\", line 102, in normalize_element\n",
      "    spec = type_spec_from_value(t, use_fallback=False)\n",
      "  File \"C:\\anaconda3\\Lib\\site-packages\\tensorflow\\python\\data\\util\\structure.py\", line 485, in type_spec_from_value\n",
      "    raise TypeError(\"Could not build a `TypeSpec` for {} with type {}\".format(\n",
      "TypeError: Could not build a `TypeSpec` for       N     P     K temperature humidity    ph rainfall\n",
      "0  None  None  None        None     None  None     None with type DataFrame\n",
      "\n",
      "During handling of the above exception, another exception occurred:\n",
      "\n",
      "Traceback (most recent call last):\n",
      "  File \"C:\\anaconda3\\Lib\\site-packages\\flask\\app.py\", line 2464, in __call__\n",
      "    return self.wsgi_app(environ, start_response)\n",
      "  File \"C:\\anaconda3\\Lib\\site-packages\\flask\\app.py\", line 2450, in wsgi_app\n",
      "    response = self.handle_exception(e)\n",
      "  File \"C:\\anaconda3\\Lib\\site-packages\\flask_cors\\extension.py\", line 165, in wrapped_function\n",
      "    return cors_after_request(app.make_response(f(*args, **kwargs)))\n",
      "  File \"C:\\anaconda3\\Lib\\site-packages\\flask\\app.py\", line 1867, in handle_exception\n",
      "    reraise(exc_type, exc_value, tb)\n",
      "  File \"C:\\anaconda3\\Lib\\site-packages\\flask\\_compat.py\", line 39, in reraise\n",
      "    raise value\n",
      "  File \"C:\\anaconda3\\Lib\\site-packages\\flask\\app.py\", line 2447, in wsgi_app\n",
      "    response = self.full_dispatch_request()\n",
      "  File \"C:\\anaconda3\\Lib\\site-packages\\flask\\app.py\", line 1952, in full_dispatch_request\n",
      "    rv = self.handle_user_exception(e)\n",
      "  File \"C:\\anaconda3\\Lib\\site-packages\\flask_cors\\extension.py\", line 165, in wrapped_function\n",
      "    return cors_after_request(app.make_response(f(*args, **kwargs)))\n",
      "  File \"C:\\anaconda3\\Lib\\site-packages\\flask\\app.py\", line 1821, in handle_user_exception\n",
      "    reraise(exc_type, exc_value, tb)\n",
      "  File \"C:\\anaconda3\\Lib\\site-packages\\flask\\_compat.py\", line 39, in reraise\n",
      "    raise value\n",
      "  File \"C:\\anaconda3\\Lib\\site-packages\\flask\\app.py\", line 1950, in full_dispatch_request\n",
      "    rv = self.dispatch_request()\n",
      "  File \"C:\\anaconda3\\Lib\\site-packages\\flask\\app.py\", line 1936, in dispatch_request\n",
      "    return self.view_functions[rule.endpoint](**req.view_args)\n",
      "  File \"C:\\Users\\Expert Info\\AppData\\Local\\Temp\\ipykernel_5248\\6600134.py\", line 14, in predict\n",
      "    \n",
      "  File \"C:\\anaconda3\\Lib\\site-packages\\keras\\utils\\traceback_utils.py\", line 67, in error_handler\n",
      "    raise e.with_traceback(filtered_tb) from None\n",
      "  File \"C:\\anaconda3\\Lib\\site-packages\\tensorflow\\python\\framework\\constant_op.py\", line 102, in convert_to_eager_tensor\n",
      "    return ops.EagerTensor(value, ctx.device_name, dtype)\n",
      "ValueError: Failed to convert a NumPy array to a Tensor (Unsupported object type NoneType).\n",
      "192.168.43.205 - - [31/Aug/2022 09:15:27] \"OPTIONS //predict2 HTTP/1.1\" 200 -\n",
      "192.168.43.205 - - [31/Aug/2022 09:15:27] \"OPTIONS //predict2 HTTP/1.1\" 200 -\n"
     ]
    },
    {
     "name": "stdout",
     "output_type": "stream",
     "text": [
      "Y=        N     P     K  temperature   humidity        ph   rainfall\n",
      "0  134.0  56.0  18.0    23.808346  83.919026  6.691268  70.973583\n",
      "Y=        N     P     K  temperature   humidity        ph   rainfall\n",
      "0  134.0  56.0  18.0    23.808346  83.919026  6.691268  70.973583\n",
      "1/1 [==============================] - 0s 40ms/step\n",
      "1/1 [==============================] - 0s 42ms/step\n"
     ]
    },
    {
     "name": "stderr",
     "output_type": "stream",
     "text": [
      "C:\\Users\\Expert Info\\AppData\\Local\\Temp\\ipykernel_5248\\6600134.py:18: DeprecationWarning: tostring() is deprecated. Use tobytes() instead.\n",
      "  print(prediction.tostring())\n",
      "192.168.43.205 - - [31/Aug/2022 09:15:27] \"POST //predict2 HTTP/1.1\" 200 -\n",
      "192.168.43.205 - - [31/Aug/2022 09:15:27] \"POST //predict2 HTTP/1.1\" 200 -\n"
     ]
    },
    {
     "name": "stdout",
     "output_type": "stream",
     "text": [
      "[ 6 11  7 15  1  5  2 12 17  8 13  3 21 20 14 10 18 16 19  0  9  4]\n",
      "b'\\x1c6\\x81\\'\\xa0\\xec\\xc36l\\nH6\\xe1\\xba+4\\t\\xf0@\\x1a\\x16\\xb8\\xaf6\\xca\\x99~?\\x85U\\xa98\\x98\\xbdq5\\x08\\x0fv\\'\\xad\\xc7\\x8c/8\\xe2\\xae;:(-6\\xaf\\xc2w4\\x001D0\\x96)\\xec7i\\x8ck)\\x98\\xe0\\x056F\"\\x07+\\xee\\xa8\\x0e)\\xd2\\x7f\\x1f3\\xc9\\x98\\xac3'\n",
      "[ 6 11  7 15  1  5  2 12 17  8 13  3 21 20 14 10 18 16 19  0  9  4]\n",
      "b'\\x1c6\\x81\\'\\xa0\\xec\\xc36l\\nH6\\xe1\\xba+4\\t\\xf0@\\x1a\\x16\\xb8\\xaf6\\xca\\x99~?\\x85U\\xa98\\x98\\xbdq5\\x08\\x0fv\\'\\xad\\xc7\\x8c/8\\xe2\\xae;:(-6\\xaf\\xc2w4\\x001D0\\x96)\\xec7i\\x8ck)\\x98\\xe0\\x056F\"\\x07+\\xee\\xa8\\x0e)\\xd2\\x7f\\x1f3\\xc9\\x98\\xac3'\n"
     ]
    },
    {
     "name": "stderr",
     "output_type": "stream",
     "text": [
      "192.168.43.205 - - [31/Aug/2022 09:16:50] \"OPTIONS //predict2 HTTP/1.1\" 200 -\n",
      "192.168.43.205 - - [31/Aug/2022 09:16:50] \"OPTIONS //predict2 HTTP/1.1\" 200 -\n"
     ]
    },
    {
     "name": "stdout",
     "output_type": "stream",
     "text": [
      "Y=       N     P     K  temperature   humidity        ph   rainfall\n",
      "0  20.0  56.0  90.0          NaN  83.919026  6.691268  70.973583\n",
      "Y=       N     P     K  temperature   humidity        ph   rainfall\n",
      "0  20.0  56.0  90.0          NaN  83.919026  6.691268  70.973583\n",
      "1/1 [==============================] - 0s 44ms/step\n",
      "1/1 [==============================] - 0s 49ms/step\n"
     ]
    },
    {
     "name": "stderr",
     "output_type": "stream",
     "text": [
      "C:\\Users\\Expert Info\\AppData\\Local\\Temp\\ipykernel_5248\\6600134.py:18: DeprecationWarning: tostring() is deprecated. Use tobytes() instead.\n",
      "  print(prediction.tostring())\n",
      "192.168.43.205 - - [31/Aug/2022 09:16:50] \"POST //predict2 HTTP/1.1\" 200 -\n",
      "192.168.43.205 - - [31/Aug/2022 09:16:50] \"POST //predict2 HTTP/1.1\" 200 -\n"
     ]
    },
    {
     "name": "stdout",
     "output_type": "stream",
     "text": [
      "[21 20  1  2  3  4  5  6  7  8  9 10 11 12 13 14 15 16 17 18 19  0]\n",
      "b'\\x00\\x00\\xc0\\x7f\\x00\\x00\\xc0\\x7f\\x00\\x00\\xc0\\x7f\\x00\\x00\\xc0\\x7f\\x00\\x00\\xc0\\x7f\\x00\\x00\\xc0\\x7f\\x00\\x00\\xc0\\x7f\\x00\\x00\\xc0\\x7f\\x00\\x00\\xc0\\x7f\\x00\\x00\\xc0\\x7f\\x00\\x00\\xc0\\x7f\\x00\\x00\\xc0\\x7f\\x00\\x00\\xc0\\x7f\\x00\\x00\\xc0\\x7f\\x00\\x00\\xc0\\x7f\\x00\\x00\\xc0\\x7f\\x00\\x00\\xc0\\x7f\\x00\\x00\\xc0\\x7f\\x00\\x00\\xc0\\x7f\\x00\\x00\\xc0\\x7f\\x00\\x00\\xc0\\x7f\\x00\\x00\\xc0\\x7f'\n",
      "[21 20  1  2  3  4  5  6  7  8  9 10 11 12 13 14 15 16 17 18 19  0]\n",
      "b'\\x00\\x00\\xc0\\x7f\\x00\\x00\\xc0\\x7f\\x00\\x00\\xc0\\x7f\\x00\\x00\\xc0\\x7f\\x00\\x00\\xc0\\x7f\\x00\\x00\\xc0\\x7f\\x00\\x00\\xc0\\x7f\\x00\\x00\\xc0\\x7f\\x00\\x00\\xc0\\x7f\\x00\\x00\\xc0\\x7f\\x00\\x00\\xc0\\x7f\\x00\\x00\\xc0\\x7f\\x00\\x00\\xc0\\x7f\\x00\\x00\\xc0\\x7f\\x00\\x00\\xc0\\x7f\\x00\\x00\\xc0\\x7f\\x00\\x00\\xc0\\x7f\\x00\\x00\\xc0\\x7f\\x00\\x00\\xc0\\x7f\\x00\\x00\\xc0\\x7f\\x00\\x00\\xc0\\x7f\\x00\\x00\\xc0\\x7f'\n"
     ]
    },
    {
     "name": "stderr",
     "output_type": "stream",
     "text": [
      "192.168.43.205 - - [31/Aug/2022 09:17:09] \"OPTIONS //predict2 HTTP/1.1\" 200 -\n",
      "192.168.43.205 - - [31/Aug/2022 09:17:09] \"OPTIONS //predict2 HTTP/1.1\" 200 -\n"
     ]
    },
    {
     "name": "stdout",
     "output_type": "stream",
     "text": [
      "Y=       N     P     K  temperature   humidity        ph   rainfall\n",
      "0  20.0  56.0  90.0          NaN  83.919026  6.691268  70.973583\n",
      "Y=       N     P     K  temperature   humidity        ph   rainfall\n",
      "0  20.0  56.0  90.0          NaN  83.919026  6.691268  70.973583\n",
      "1/1 [==============================] - 0s 49ms/step\n",
      "1/1 [==============================] - 0s 44ms/step\n"
     ]
    },
    {
     "name": "stderr",
     "output_type": "stream",
     "text": [
      "C:\\Users\\Expert Info\\AppData\\Local\\Temp\\ipykernel_5248\\6600134.py:18: DeprecationWarning: tostring() is deprecated. Use tobytes() instead.\n",
      "  print(prediction.tostring())\n",
      "192.168.43.205 - - [31/Aug/2022 09:17:10] \"POST //predict2 HTTP/1.1\" 200 -\n",
      "192.168.43.205 - - [31/Aug/2022 09:17:10] \"POST //predict2 HTTP/1.1\" 200 -\n"
     ]
    },
    {
     "name": "stdout",
     "output_type": "stream",
     "text": [
      "[21 20  1  2  3  4  5  6  7  8  9 10 11 12 13 14 15 16 17 18 19  0]\n",
      "b'\\x00\\x00\\xc0\\x7f\\x00\\x00\\xc0\\x7f\\x00\\x00\\xc0\\x7f\\x00\\x00\\xc0\\x7f\\x00\\x00\\xc0\\x7f\\x00\\x00\\xc0\\x7f\\x00\\x00\\xc0\\x7f\\x00\\x00\\xc0\\x7f\\x00\\x00\\xc0\\x7f\\x00\\x00\\xc0\\x7f\\x00\\x00\\xc0\\x7f\\x00\\x00\\xc0\\x7f\\x00\\x00\\xc0\\x7f\\x00\\x00\\xc0\\x7f\\x00\\x00\\xc0\\x7f\\x00\\x00\\xc0\\x7f\\x00\\x00\\xc0\\x7f\\x00\\x00\\xc0\\x7f\\x00\\x00\\xc0\\x7f\\x00\\x00\\xc0\\x7f\\x00\\x00\\xc0\\x7f\\x00\\x00\\xc0\\x7f'\n",
      "[21 20  1  2  3  4  5  6  7  8  9 10 11 12 13 14 15 16 17 18 19  0]\n",
      "b'\\x00\\x00\\xc0\\x7f\\x00\\x00\\xc0\\x7f\\x00\\x00\\xc0\\x7f\\x00\\x00\\xc0\\x7f\\x00\\x00\\xc0\\x7f\\x00\\x00\\xc0\\x7f\\x00\\x00\\xc0\\x7f\\x00\\x00\\xc0\\x7f\\x00\\x00\\xc0\\x7f\\x00\\x00\\xc0\\x7f\\x00\\x00\\xc0\\x7f\\x00\\x00\\xc0\\x7f\\x00\\x00\\xc0\\x7f\\x00\\x00\\xc0\\x7f\\x00\\x00\\xc0\\x7f\\x00\\x00\\xc0\\x7f\\x00\\x00\\xc0\\x7f\\x00\\x00\\xc0\\x7f\\x00\\x00\\xc0\\x7f\\x00\\x00\\xc0\\x7f\\x00\\x00\\xc0\\x7f\\x00\\x00\\xc0\\x7f'\n"
     ]
    },
    {
     "name": "stderr",
     "output_type": "stream",
     "text": [
      "192.168.43.205 - - [31/Aug/2022 09:18:04] \"OPTIONS //predict2 HTTP/1.1\" 200 -\n",
      "192.168.43.205 - - [31/Aug/2022 09:18:04] \"OPTIONS //predict2 HTTP/1.1\" 200 -\n"
     ]
    },
    {
     "name": "stdout",
     "output_type": "stream",
     "text": [
      "Y=       N     P     K  temperature   humidity        ph   rainfall\n",
      "0  20.0  56.0  90.0        15.22  83.919026  6.691268  70.973583\n",
      "Y=       N     P     K  temperature   humidity        ph   rainfall\n",
      "0  20.0  56.0  90.0        15.22  83.919026  6.691268  70.973583\n",
      "1/1 [==============================] - 0s 47ms/step\n"
     ]
    },
    {
     "name": "stderr",
     "output_type": "stream",
     "text": [
      "C:\\Users\\Expert Info\\AppData\\Local\\Temp\\ipykernel_5248\\6600134.py:18: DeprecationWarning: tostring() is deprecated. Use tobytes() instead.\n",
      "  print(prediction.tostring())\n",
      "192.168.43.205 - - [31/Aug/2022 09:18:04] \"POST //predict2 HTTP/1.1\" 200 -\n"
     ]
    },
    {
     "name": "stdout",
     "output_type": "stream",
     "text": [
      "[19 17  0 14  7 13  1 10 21 15  2 12  3  8  6 11  4 20  9 18 16  5]\n",
      "b\"\\xc7\\x87\\xa2=\\xaaM)6=T\\xf44vJ'3\\x0c\\xa7\\xba1\\x9c\\x89\\x13&\\x89^\\xfd1\\x1a\\xab\\x847\\xf6z\\xa22\\xe5l/-7B\\x126\\x9b\\xbb\\xce1\\xa3w\\x1b4\\xaf\\x08(7\\xb6J'8\\xe96@5\\x18-\\xfe'\\xab\\x1a'>\\x87\\x01\\x14*\\x87\\xe3A?_\\x1bo.F\\x7f\\xee5\"\n",
      "1/1 [==============================] - 0s 70ms/step\n"
     ]
    },
    {
     "name": "stderr",
     "output_type": "stream",
     "text": [
      "192.168.43.205 - - [31/Aug/2022 09:18:04] \"POST //predict2 HTTP/1.1\" 200 -\n"
     ]
    },
    {
     "name": "stdout",
     "output_type": "stream",
     "text": [
      "[19 17  0 14  7 13  1 10 21 15  2 12  3  8  6 11  4 20  9 18 16  5]\n",
      "b\"\\xc7\\x87\\xa2=\\xaaM)6=T\\xf44vJ'3\\x0c\\xa7\\xba1\\x9c\\x89\\x13&\\x89^\\xfd1\\x1a\\xab\\x847\\xf6z\\xa22\\xe5l/-7B\\x126\\x9b\\xbb\\xce1\\xa3w\\x1b4\\xaf\\x08(7\\xb6J'8\\xe96@5\\x18-\\xfe'\\xab\\x1a'>\\x87\\x01\\x14*\\x87\\xe3A?_\\x1bo.F\\x7f\\xee5\"\n"
     ]
    },
    {
     "name": "stderr",
     "output_type": "stream",
     "text": [
      "192.168.43.205 - - [31/Aug/2022 09:19:47] \"OPTIONS //predict2 HTTP/1.1\" 200 -\n",
      "192.168.43.205 - - [31/Aug/2022 09:19:47] \"OPTIONS //predict2 HTTP/1.1\" 200 -\n"
     ]
    },
    {
     "name": "stdout",
     "output_type": "stream",
     "text": [
      "Y=       N     P     K  temperature   humidity        ph   rainfall\n",
      "0  20.0  56.0  90.0        25.22  70.919026  6.691268  90.973583\n",
      "Y=       N     P     K  temperature   humidity        ph   rainfall\n",
      "0  20.0  56.0  90.0        25.22  70.919026  6.691268  90.973583\n",
      "1/1 [==============================] - 0s 46ms/step\n",
      "1/1 [==============================] - 0s 42ms/step\n"
     ]
    },
    {
     "name": "stderr",
     "output_type": "stream",
     "text": [
      "C:\\Users\\Expert Info\\AppData\\Local\\Temp\\ipykernel_5248\\6600134.py:18: DeprecationWarning: tostring() is deprecated. Use tobytes() instead.\n",
      "  print(prediction.tostring())\n",
      "192.168.43.205 - - [31/Aug/2022 09:19:48] \"POST //predict2 HTTP/1.1\" 200 -\n",
      "192.168.43.205 - - [31/Aug/2022 09:19:48] \"POST //predict2 HTTP/1.1\" 200 -\n"
     ]
    },
    {
     "name": "stdout",
     "output_type": "stream",
     "text": [
      "[17  0 19 12  7 13  3 21 14  2  4  1  8 10  6  9 15 20 18 11 16  5]\n",
      "b\"r\\xff\\xa2=}T\\xdf4M_\\x815\\xa1U\\xa87e\\xec\\x025\\xef\\x1b\\x14'i\\x1fV2w5\\xfc8)\\xd8\\xcc3<4\\xf71\\xd1gT37J\\xae.={\\xfe9\\xcbW\\xc38\\x874\\xbe6<\\xbb 1nFy(\\xd1rb?z\\xffk/z\\xd3\\x0f=\\xa9(\\x82/\\x87z\\xd66\"\n",
      "[17  0 19 12  7 13  3 21 14  2  4  1  8 10  6  9 15 20 18 11 16  5]\n",
      "b\"r\\xff\\xa2=}T\\xdf4M_\\x815\\xa1U\\xa87e\\xec\\x025\\xef\\x1b\\x14'i\\x1fV2w5\\xfc8)\\xd8\\xcc3<4\\xf71\\xd1gT37J\\xae.={\\xfe9\\xcbW\\xc38\\x874\\xbe6<\\xbb 1nFy(\\xd1rb?z\\xffk/z\\xd3\\x0f=\\xa9(\\x82/\\x87z\\xd66\"\n"
     ]
    },
    {
     "name": "stderr",
     "output_type": "stream",
     "text": [
      "192.168.43.205 - - [31/Aug/2022 09:23:00] \"OPTIONS //predict2 HTTP/1.1\" 200 -\n",
      "192.168.43.205 - - [31/Aug/2022 09:23:00] \"OPTIONS //predict2 HTTP/1.1\" 200 -\n"
     ]
    },
    {
     "name": "stdout",
     "output_type": "stream",
     "text": [
      "Y=       N     P      K  temperature   humidity        ph   rainfall\n",
      "0  20.0  56.0  150.0    23.808346  87.919026  5.691268  80.973583\n",
      "Y=       N     P      K  temperature   humidity        ph   rainfall\n",
      "0  20.0  56.0  150.0    23.808346  87.919026  5.691268  80.973583\n",
      "1/1 [==============================] - 0s 55ms/step\n"
     ]
    },
    {
     "name": "stderr",
     "output_type": "stream",
     "text": [
      "C:\\Users\\Expert Info\\AppData\\Local\\Temp\\ipykernel_5248\\6600134.py:18: DeprecationWarning: tostring() is deprecated. Use tobytes() instead.\n",
      "  print(prediction.tostring())\n",
      "192.168.43.205 - - [31/Aug/2022 09:23:01] \"POST //predict2 HTTP/1.1\" 200 -\n"
     ]
    },
    {
     "name": "stdout",
     "output_type": "stream",
     "text": [
      "[17  0 19  7  3 14 12 15 13 21  1  6  2  8  4 20 10  9 11 18  5 16]\n",
      "b'rP\\xf7>f\\x18D37h\\t0\\xb9\\n\\xaf5\\xe1]l,\\x15\\xdf\\xd5\\x1a\\xfe\\xa0\"1\\xaeJ\\x10:j\\x7f\\xb0-\\xbf\\xa5\\x9b(\\xaa\\nA*W\\xc5W(\\xaf\\xeea4\\x1cC\\x174\\xbb\\xfd\\x9a4\\xbcGI4\\x1d\\xf4\\x9d\\x1a\\xbb\\x05\\x03?\\xf9VS\\x1e\\xb7\\xe9\\x96;D\\xcd,+\\xf3\\xb5\\xb93'\n",
      "1/1 [==============================] - 0s 45ms/step\n"
     ]
    },
    {
     "name": "stderr",
     "output_type": "stream",
     "text": [
      "192.168.43.205 - - [31/Aug/2022 09:23:01] \"POST //predict2 HTTP/1.1\" 200 -\n"
     ]
    },
    {
     "name": "stdout",
     "output_type": "stream",
     "text": [
      "[17  0 19  7  3 14 12 15 13 21  1  6  2  8  4 20 10  9 11 18  5 16]\n",
      "b'rP\\xf7>f\\x18D37h\\t0\\xb9\\n\\xaf5\\xe1]l,\\x15\\xdf\\xd5\\x1a\\xfe\\xa0\"1\\xaeJ\\x10:j\\x7f\\xb0-\\xbf\\xa5\\x9b(\\xaa\\nA*W\\xc5W(\\xaf\\xeea4\\x1cC\\x174\\xbb\\xfd\\x9a4\\xbcGI4\\x1d\\xf4\\x9d\\x1a\\xbb\\x05\\x03?\\xf9VS\\x1e\\xb7\\xe9\\x96;D\\xcd,+\\xf3\\xb5\\xb93'\n"
     ]
    },
    {
     "name": "stderr",
     "output_type": "stream",
     "text": [
      "192.168.43.205 - - [31/Aug/2022 09:23:54] \"OPTIONS //predict2 HTTP/1.1\" 200 -\n",
      "192.168.43.205 - - [31/Aug/2022 09:23:54] \"OPTIONS //predict2 HTTP/1.1\" 200 -\n"
     ]
    },
    {
     "name": "stdout",
     "output_type": "stream",
     "text": [
      "Y=       N     P      K  temperature   humidity        ph   rainfall\n",
      "0  40.0  56.0  150.0    33.808346  77.919026  5.691268  80.973583\n",
      "Y=       N     P      K  temperature   humidity        ph   rainfall\n",
      "0  40.0  56.0  150.0    33.808346  77.919026  5.691268  80.973583\n",
      "1/1 [==============================] - 0s 34ms/step\n",
      "1/1 [==============================] - 0s 37ms/step\n"
     ]
    },
    {
     "name": "stderr",
     "output_type": "stream",
     "text": [
      "C:\\Users\\Expert Info\\AppData\\Local\\Temp\\ipykernel_5248\\6600134.py:18: DeprecationWarning: tostring() is deprecated. Use tobytes() instead.\n",
      "  print(prediction.tostring())\n",
      "192.168.43.205 - - [31/Aug/2022 09:23:54] \"POST //predict2 HTTP/1.1\" 200 -\n",
      "192.168.43.205 - - [31/Aug/2022 09:23:54] \"POST //predict2 HTTP/1.1\" 200 -\n"
     ]
    },
    {
     "name": "stdout",
     "output_type": "stream",
     "text": [
      "[17  0  7  3  1 15 21 13 19 12 14  6  2  8 20  4 11  9 10 18  5 16]\n",
      "b\"\\xa8\\xd6\\x03=\\xb8\\x18\\xb68j\\x1df1\\x16\\n\\xa3;\\x1d\\xc1c+\\xda\\xe7\\xf1\\x1d)\\x93\\xb02\\xca-><x\\x0b(1\\x02y\\xa3*\\x8e\\xa1#*\\xae\\xa3\\x1b+\\xce*\\xc85\\xc6\\x18\\x8e7\\xce\\xe5\\x833'3&8L\\xab$\\x1b\\xe2ws?b\\x04\\xc7 \\xc0H\\xb86=\\xab!.W\\x91\\x028\"\n",
      "[17  0  7  3  1 15 21 13 19 12 14  6  2  8 20  4 11  9 10 18  5 16]\n",
      "b\"\\xa8\\xd6\\x03=\\xb8\\x18\\xb68j\\x1df1\\x16\\n\\xa3;\\x1d\\xc1c+\\xda\\xe7\\xf1\\x1d)\\x93\\xb02\\xca-><x\\x0b(1\\x02y\\xa3*\\x8e\\xa1#*\\xae\\xa3\\x1b+\\xce*\\xc85\\xc6\\x18\\x8e7\\xce\\xe5\\x833'3&8L\\xab$\\x1b\\xe2ws?b\\x04\\xc7 \\xc0H\\xb86=\\xab!.W\\x91\\x028\"\n"
     ]
    },
    {
     "name": "stderr",
     "output_type": "stream",
     "text": [
      "192.168.43.205 - - [31/Aug/2022 09:25:14] \"OPTIONS //predict2 HTTP/1.1\" 200 -\n",
      "192.168.43.205 - - [31/Aug/2022 09:25:14] \"OPTIONS //predict2 HTTP/1.1\" 200 -\n"
     ]
    },
    {
     "name": "stdout",
     "output_type": "stream",
     "text": [
      "Y=       N     P      K  temperature   humidity        ph   rainfall\n",
      "0  40.0  56.0  150.0    33.808346  77.919026  5.691268  80.973583\n",
      "Y=       N     P      K  temperature   humidity        ph   rainfall\n",
      "0  40.0  56.0  150.0    33.808346  77.919026  5.691268  80.973583\n",
      "1/1 [==============================] - 0s 29ms/step\n",
      "1/1 [==============================] - 0s 32ms/step\n"
     ]
    },
    {
     "name": "stderr",
     "output_type": "stream",
     "text": [
      "C:\\Users\\Expert Info\\AppData\\Local\\Temp\\ipykernel_5248\\6600134.py:18: DeprecationWarning: tostring() is deprecated. Use tobytes() instead.\n",
      "  print(prediction.tostring())\n",
      "192.168.43.205 - - [31/Aug/2022 09:25:15] \"POST //predict2 HTTP/1.1\" 200 -\n",
      "192.168.43.205 - - [31/Aug/2022 09:25:15] \"POST //predict2 HTTP/1.1\" 200 -\n"
     ]
    },
    {
     "name": "stdout",
     "output_type": "stream",
     "text": [
      "[17  0  7  3  1 15 21 13 19 12 14  6  2  8 20  4 11  9 10 18  5 16]\n",
      "b\"\\xa8\\xd6\\x03=\\xb8\\x18\\xb68j\\x1df1\\x16\\n\\xa3;\\x1d\\xc1c+\\xda\\xe7\\xf1\\x1d)\\x93\\xb02\\xca-><x\\x0b(1\\x02y\\xa3*\\x8e\\xa1#*\\xae\\xa3\\x1b+\\xce*\\xc85\\xc6\\x18\\x8e7\\xce\\xe5\\x833'3&8L\\xab$\\x1b\\xe2ws?b\\x04\\xc7 \\xc0H\\xb86=\\xab!.W\\x91\\x028\"\n",
      "[17  0  7  3  1 15 21 13 19 12 14  6  2  8 20  4 11  9 10 18  5 16]\n",
      "b\"\\xa8\\xd6\\x03=\\xb8\\x18\\xb68j\\x1df1\\x16\\n\\xa3;\\x1d\\xc1c+\\xda\\xe7\\xf1\\x1d)\\x93\\xb02\\xca-><x\\x0b(1\\x02y\\xa3*\\x8e\\xa1#*\\xae\\xa3\\x1b+\\xce*\\xc85\\xc6\\x18\\x8e7\\xce\\xe5\\x833'3&8L\\xab$\\x1b\\xe2ws?b\\x04\\xc7 \\xc0H\\xb86=\\xab!.W\\x91\\x028\"\n"
     ]
    },
    {
     "name": "stderr",
     "output_type": "stream",
     "text": [
      "192.168.43.205 - - [31/Aug/2022 09:26:48] \"OPTIONS //predict2 HTTP/1.1\" 200 -\n",
      "192.168.43.205 - - [31/Aug/2022 09:26:48] \"OPTIONS //predict2 HTTP/1.1\" 200 -\n"
     ]
    },
    {
     "name": "stdout",
     "output_type": "stream",
     "text": [
      "Y=       N     P      K  temperature   humidity        ph   rainfall\n",
      "0  70.0  56.0  150.0    33.808346  77.919026  5.691268  80.973583\n",
      "Y=       N     P      K  temperature   humidity        ph   rainfall\n",
      "0  70.0  56.0  150.0    33.808346  77.919026  5.691268  80.973583\n",
      "1/1 [==============================] - 0s 43ms/step\n",
      "1/1 [==============================] - 0s 41ms/step\n"
     ]
    },
    {
     "name": "stderr",
     "output_type": "stream",
     "text": [
      "C:\\Users\\Expert Info\\AppData\\Local\\Temp\\ipykernel_5248\\6600134.py:18: DeprecationWarning: tostring() is deprecated. Use tobytes() instead.\n",
      "  print(prediction.tostring())\n",
      "192.168.43.205 - - [31/Aug/2022 09:26:48] \"POST //predict2 HTTP/1.1\" 200 -\n",
      "192.168.43.205 - - [31/Aug/2022 09:26:48] \"POST //predict2 HTTP/1.1\" 200 -\n"
     ]
    },
    {
     "name": "stdout",
     "output_type": "stream",
     "text": [
      "[ 1 21 17  7  3 15  0 13  8  6 12 19 11  2 14 20 10  4  9  5 18 16]\n",
      "b'\\xcf:\\x129\\xdb\\xb9b?};\\xdc0\\x0b\\x8d-;\\xba\\xd2q\\'\\x02\\r\\xd2!\\xb1\\x05:3\\xce\\x99\\x01<\\xa5\\x0f 5\\x99\\x12\\x1b\\'\\x02\\xb5})\\x8ab\\x021o\\xab\\xdc2\"\\xcd\\xbe8\\xe3\\xd8\\xb10\\x1b\\xa3\\xeb:\\x9dc\\x7f\\x1c\\x1b\\xd4\\x1a=\\xefM\\x81\\x1d*6[1\\x1a\\xfe\\x93/\\xba\\xff\\x82='\n",
      "[ 1 21 17  7  3 15  0 13  8  6 12 19 11  2 14 20 10  4  9  5 18 16]\n",
      "b'\\xcf:\\x129\\xdb\\xb9b?};\\xdc0\\x0b\\x8d-;\\xba\\xd2q\\'\\x02\\r\\xd2!\\xb1\\x05:3\\xce\\x99\\x01<\\xa5\\x0f 5\\x99\\x12\\x1b\\'\\x02\\xb5})\\x8ab\\x021o\\xab\\xdc2\"\\xcd\\xbe8\\xe3\\xd8\\xb10\\x1b\\xa3\\xeb:\\x9dc\\x7f\\x1c\\x1b\\xd4\\x1a=\\xefM\\x81\\x1d*6[1\\x1a\\xfe\\x93/\\xba\\xff\\x82='\n"
     ]
    },
    {
     "name": "stderr",
     "output_type": "stream",
     "text": [
      "192.168.43.205 - - [31/Aug/2022 09:28:14] \"OPTIONS //predict2 HTTP/1.1\" 200 -\n",
      "192.168.43.205 - - [31/Aug/2022 09:28:14] \"OPTIONS //predict2 HTTP/1.1\" 200 -\n"
     ]
    },
    {
     "name": "stdout",
     "output_type": "stream",
     "text": [
      "Y=       N     P      K  temperature   humidity        ph   rainfall\n",
      "0  40.0  56.0  150.0    33.808346  77.919026  4.691268  75.973583\n",
      "Y=       N     P      K  temperature   humidity        ph   rainfall\n",
      "0  40.0  56.0  150.0    33.808346  77.919026  4.691268  75.973583\n",
      "1/1 [==============================] - 0s 53ms/step\n",
      "1/1 [==============================] - 0s 48ms/step\n"
     ]
    },
    {
     "name": "stderr",
     "output_type": "stream",
     "text": [
      "C:\\Users\\Expert Info\\AppData\\Local\\Temp\\ipykernel_5248\\6600134.py:18: DeprecationWarning: tostring() is deprecated. Use tobytes() instead.\n",
      "  print(prediction.tostring())\n",
      "192.168.43.205 - - [31/Aug/2022 09:28:14] \"POST //predict2 HTTP/1.1\" 200 -\n",
      "192.168.43.205 - - [31/Aug/2022 09:28:14] \"POST //predict2 HTTP/1.1\" 200 -\n"
     ]
    },
    {
     "name": "stdout",
     "output_type": "stream",
     "text": [
      "[17  7  0  3 15  1 21 13 19 12 14  6  2  8 20 11  4  9 10 18  5 16]\n",
      "b'\\xd5\\x17\\xb0<6@\\x149\\xa5A\\x191w\\x9e\\xa7;\\xc7)\\xa8*\\xb6:\\x05\\x1e\\x85A\\xfe2\\xa7}\\xba<\\x07\\xd1\\x071\\x00s\\x81*\\x80\\x136*-\\xed\\x1e+\\x18\\xf7\\x025\\xd3\\r\\x957Y+\\x853\\x88=\\x199U\\xf5\\x7f\\x1a*Fs?\\xbb}a J\\x01-6\\x11\\xe33.\\x91D\\xdb7'\n",
      "[17  7  0  3 15  1 21 13 19 12 14  6  2  8 20 11  4  9 10 18  5 16]\n",
      "b'\\xd5\\x17\\xb0<6@\\x149\\xa5A\\x191w\\x9e\\xa7;\\xc7)\\xa8*\\xb6:\\x05\\x1e\\x85A\\xfe2\\xa7}\\xba<\\x07\\xd1\\x071\\x00s\\x81*\\x80\\x136*-\\xed\\x1e+\\x18\\xf7\\x025\\xd3\\r\\x957Y+\\x853\\x88=\\x199U\\xf5\\x7f\\x1a*Fs?\\xbb}a J\\x01-6\\x11\\xe33.\\x91D\\xdb7'\n"
     ]
    },
    {
     "name": "stderr",
     "output_type": "stream",
     "text": [
      "192.168.43.205 - - [31/Aug/2022 09:29:10] \"OPTIONS //predict2 HTTP/1.1\" 200 -\n",
      "192.168.43.205 - - [31/Aug/2022 09:29:10] \"OPTIONS //predict2 HTTP/1.1\" 200 -\n"
     ]
    },
    {
     "name": "stdout",
     "output_type": "stream",
     "text": [
      "Y=       N     P      K  temperature   humidity        ph   rainfall\n",
      "0  20.0  56.0  150.0    23.808346  83.919026  6.691268  70.973583\n",
      "Y=       N     P      K  temperature   humidity        ph   rainfall\n",
      "0  20.0  56.0  150.0    23.808346  83.919026  6.691268  70.973583\n",
      "1/1 [==============================] - 0s 59ms/step\n"
     ]
    },
    {
     "name": "stderr",
     "output_type": "stream",
     "text": [
      "C:\\Users\\Expert Info\\AppData\\Local\\Temp\\ipykernel_5248\\6600134.py:18: DeprecationWarning: tostring() is deprecated. Use tobytes() instead.\n",
      "  print(prediction.tostring())\n",
      "192.168.43.205 - - [31/Aug/2022 09:29:10] \"POST //predict2 HTTP/1.1\" 200 -\n"
     ]
    },
    {
     "name": "stdout",
     "output_type": "stream",
     "text": [
      "[17  0  7 19  3 15 14 13  1 21 12  6  2  8 20  4  9 10 11 18  5 16]\n",
      "b'\\xe3\\xbd\\xc7>\\xe1\\xd5\\xeb4\\x10)\\xd0/\\x81\\xf4:7*>\\x7f+\\xe2Y\\x91\\x1c\\x11582\\x9c\\x9b\\x07=\"\\xaf\"/\\x98\\xfb\\xdd)&u\\xc6)\\xd9\\x84\\xc3(\\tH\\xba3\\x05\\x92\\x055\\xa14\\xc45n\\xbf\\x026 \\x92\\xcb\\x19A\\x8e\\x13?X\\\\\\x94\\x1e\\xd6W\\xc09X $,\\xae\\x93O4'\n",
      "1/1 [==============================] - 0s 35ms/step\n"
     ]
    },
    {
     "name": "stderr",
     "output_type": "stream",
     "text": [
      "192.168.43.205 - - [31/Aug/2022 09:29:10] \"POST //predict2 HTTP/1.1\" 200 -\n"
     ]
    },
    {
     "name": "stdout",
     "output_type": "stream",
     "text": [
      "[17  0  7 19  3 15 14 13  1 21 12  6  2  8 20  4  9 10 11 18  5 16]\n",
      "b'\\xe3\\xbd\\xc7>\\xe1\\xd5\\xeb4\\x10)\\xd0/\\x81\\xf4:7*>\\x7f+\\xe2Y\\x91\\x1c\\x11582\\x9c\\x9b\\x07=\"\\xaf\"/\\x98\\xfb\\xdd)&u\\xc6)\\xd9\\x84\\xc3(\\tH\\xba3\\x05\\x92\\x055\\xa14\\xc45n\\xbf\\x026 \\x92\\xcb\\x19A\\x8e\\x13?X\\\\\\x94\\x1e\\xd6W\\xc09X $,\\xae\\x93O4'\n"
     ]
    },
    {
     "name": "stderr",
     "output_type": "stream",
     "text": [
      "192.168.43.205 - - [31/Aug/2022 09:29:53] \"OPTIONS //predict2 HTTP/1.1\" 200 -\n",
      "192.168.43.205 - - [31/Aug/2022 09:29:53] \"OPTIONS //predict2 HTTP/1.1\" 200 -\n"
     ]
    },
    {
     "name": "stdout",
     "output_type": "stream",
     "text": [
      "Y=       N     P      K  temperature   humidity        ph   rainfall\n",
      "0  40.0  56.0  150.0    33.808346  77.919026  4.691268  75.973583\n",
      "Y=       N     P      K  temperature   humidity        ph   rainfall\n",
      "0  40.0  56.0  150.0    33.808346  77.919026  4.691268  75.973583\n",
      "1/1 [==============================] - 0s 51ms/step\n"
     ]
    },
    {
     "name": "stderr",
     "output_type": "stream",
     "text": [
      "C:\\Users\\Expert Info\\AppData\\Local\\Temp\\ipykernel_5248\\6600134.py:18: DeprecationWarning: tostring() is deprecated. Use tobytes() instead.\n",
      "  print(prediction.tostring())\n",
      "192.168.43.205 - - [31/Aug/2022 09:29:53] \"POST //predict2 HTTP/1.1\" 200 -\n"
     ]
    },
    {
     "name": "stdout",
     "output_type": "stream",
     "text": [
      "[17  7  0  3 15  1 21 13 19 12 14  6  2  8 20 11  4  9 10 18  5 16]\n",
      "b'\\xd5\\x17\\xb0<6@\\x149\\xa5A\\x191w\\x9e\\xa7;\\xc7)\\xa8*\\xb6:\\x05\\x1e\\x85A\\xfe2\\xa7}\\xba<\\x07\\xd1\\x071\\x00s\\x81*\\x80\\x136*-\\xed\\x1e+\\x18\\xf7\\x025\\xd3\\r\\x957Y+\\x853\\x88=\\x199U\\xf5\\x7f\\x1a*Fs?\\xbb}a J\\x01-6\\x11\\xe33.\\x91D\\xdb7'\n",
      "1/1 [==============================] - 0s 47ms/step\n"
     ]
    },
    {
     "name": "stderr",
     "output_type": "stream",
     "text": [
      "192.168.43.205 - - [31/Aug/2022 09:29:53] \"POST //predict2 HTTP/1.1\" 200 -\n"
     ]
    },
    {
     "name": "stdout",
     "output_type": "stream",
     "text": [
      "[17  7  0  3 15  1 21 13 19 12 14  6  2  8 20 11  4  9 10 18  5 16]\n",
      "b'\\xd5\\x17\\xb0<6@\\x149\\xa5A\\x191w\\x9e\\xa7;\\xc7)\\xa8*\\xb6:\\x05\\x1e\\x85A\\xfe2\\xa7}\\xba<\\x07\\xd1\\x071\\x00s\\x81*\\x80\\x136*-\\xed\\x1e+\\x18\\xf7\\x025\\xd3\\r\\x957Y+\\x853\\x88=\\x199U\\xf5\\x7f\\x1a*Fs?\\xbb}a J\\x01-6\\x11\\xe33.\\x91D\\xdb7'\n"
     ]
    },
    {
     "name": "stderr",
     "output_type": "stream",
     "text": [
      "192.168.43.205 - - [31/Aug/2022 09:30:42] \"OPTIONS //predict2 HTTP/1.1\" 200 -\n",
      "192.168.43.205 - - [31/Aug/2022 09:30:42] \"OPTIONS //predict2 HTTP/1.1\" 200 -\n"
     ]
    },
    {
     "name": "stdout",
     "output_type": "stream",
     "text": [
      "Y=       N     P      K  temperature   humidity        ph   rainfall\n",
      "0  40.0  56.0  150.0    23.808346  83.919026  4.691268  80.973583Y=       N     P      K  temperature   humidity        ph   rainfall\n",
      "0  40.0  56.0  150.0    23.808346  83.919026  4.691268  80.973583\n",
      "\n",
      "1/1 [==============================] - 0s 45ms/step\n"
     ]
    },
    {
     "name": "stderr",
     "output_type": "stream",
     "text": [
      "C:\\Users\\Expert Info\\AppData\\Local\\Temp\\ipykernel_5248\\6600134.py:18: DeprecationWarning: tostring() is deprecated. Use tobytes() instead.\n",
      "  print(prediction.tostring())\n",
      "192.168.43.205 - - [31/Aug/2022 09:30:43] \"POST //predict2 HTTP/1.1\" 200 -\n"
     ]
    },
    {
     "name": "stdout",
     "output_type": "stream",
     "text": [
      "[17  0  7  1 19 21  3 15 13 12 14  6  2  8 11 20  4 10  9  5 18 16]\n",
      "b'E\\xd3\\x80>\\x8f\\x89\\xba9q\\xca\\x8f1\\x96\\xf5\\xcc8C\\xaa\\xfc+\\xe5\\x86O\\x1e\\xa6\\xc6\\xce2\\x14q=;\\x96\\xf3=1\\xa1V\\x02)\\xfd\\xb5\\xa8*\\xcf\\x9cF.\\xac\\xf8\\x1c4yv\\x1f6-\\xd7\\xda3W\\xf1\\x0c8g\\xdb\\xf4\\x1c\\x80\\x9c>?-\\xfe\\xed\\x1d\\xe4`\\xad9\\xee\\xe5\".d\\xfa\\xd48'\n",
      "1/1 [==============================] - 0s 41ms/step\n"
     ]
    },
    {
     "name": "stderr",
     "output_type": "stream",
     "text": [
      "192.168.43.205 - - [31/Aug/2022 09:30:43] \"POST //predict2 HTTP/1.1\" 200 -\n"
     ]
    },
    {
     "name": "stdout",
     "output_type": "stream",
     "text": [
      "[17  0  7  1 19 21  3 15 13 12 14  6  2  8 11 20  4 10  9  5 18 16]\n",
      "b'E\\xd3\\x80>\\x8f\\x89\\xba9q\\xca\\x8f1\\x96\\xf5\\xcc8C\\xaa\\xfc+\\xe5\\x86O\\x1e\\xa6\\xc6\\xce2\\x14q=;\\x96\\xf3=1\\xa1V\\x02)\\xfd\\xb5\\xa8*\\xcf\\x9cF.\\xac\\xf8\\x1c4yv\\x1f6-\\xd7\\xda3W\\xf1\\x0c8g\\xdb\\xf4\\x1c\\x80\\x9c>?-\\xfe\\xed\\x1d\\xe4`\\xad9\\xee\\xe5\".d\\xfa\\xd48'\n"
     ]
    },
    {
     "name": "stderr",
     "output_type": "stream",
     "text": [
      "192.168.43.205 - - [31/Aug/2022 09:31:44] \"OPTIONS //predict2 HTTP/1.1\" 200 -\n",
      "192.168.43.205 - - [31/Aug/2022 09:31:44] \"OPTIONS //predict2 HTTP/1.1\" 200 -\n"
     ]
    },
    {
     "name": "stdout",
     "output_type": "stream",
     "text": [
      "Y=       N     P      K  temperature   humidity        ph   rainfall\n",
      "0  40.0  56.0  190.0    23.808346  73.919026  6.691268  80.973583\n",
      "Y=       N     P      K  temperature   humidity        ph   rainfall\n",
      "0  40.0  56.0  190.0    23.808346  73.919026  6.691268  80.973583\n",
      "1/1 [==============================] - 0s 40ms/step\n",
      "1/1 [==============================] - 0s 42ms/step\n"
     ]
    },
    {
     "name": "stderr",
     "output_type": "stream",
     "text": [
      "C:\\Users\\Expert Info\\AppData\\Local\\Temp\\ipykernel_5248\\6600134.py:18: DeprecationWarning: tostring() is deprecated. Use tobytes() instead.\n",
      "  print(prediction.tostring())\n",
      "192.168.43.205 - - [31/Aug/2022 09:31:45] \"POST //predict2 HTTP/1.1\" 200 -\n",
      "192.168.43.205 - - [31/Aug/2022 09:31:45] \"POST //predict2 HTTP/1.1\" 200 -\n"
     ]
    },
    {
     "name": "stdout",
     "output_type": "stream",
     "text": [
      "[ 7 17  3  0  1 15 21 13  6 14 12 19  8 20  2  9 11  4 10  5 18 16][ 7 17  3  0  1 15 21 13  6 14 12 19  8 20  2  9 11  4 10  5 18 16]\n",
      "\n",
      "b'\\xed9\\x0e:\\x16\\x84\\xc97\\xfc\\xff\")\\x15\\xfdI:\\x05\\x0c\\x04#\\x06\\x84\\xd9\\x17\\x8ay\\x9b07\\x86~?]\\xf1\\xba-\\xb1\\x9e\\x11&\\xa8\\xbc\\x9d\\x1b!\\x84\\x8b$\\xf3\\xfa\\xa7/n\\x83\\x141\\xa0\\x08\\xe8/\\x1c\\xc8\\x024jJ\\xa1\\r\\x97\\x11\\x91;\\x9e\\x03\\xa7\\x11\\xd5\\x035/\\xa4\\x93\\xd9)\\xfb\\xf2\\xa33'\n",
      "b'\\xed9\\x0e:\\x16\\x84\\xc97\\xfc\\xff\")\\x15\\xfdI:\\x05\\x0c\\x04#\\x06\\x84\\xd9\\x17\\x8ay\\x9b07\\x86~?]\\xf1\\xba-\\xb1\\x9e\\x11&\\xa8\\xbc\\x9d\\x1b!\\x84\\x8b$\\xf3\\xfa\\xa7/n\\x83\\x141\\xa0\\x08\\xe8/\\x1c\\xc8\\x024jJ\\xa1\\r\\x97\\x11\\x91;\\x9e\\x03\\xa7\\x11\\xd5\\x035/\\xa4\\x93\\xd9)\\xfb\\xf2\\xa33'\n"
     ]
    },
    {
     "name": "stderr",
     "output_type": "stream",
     "text": [
      "192.168.43.205 - - [31/Aug/2022 09:32:39] \"OPTIONS //predict2 HTTP/1.1\" 200 -\n",
      "192.168.43.205 - - [31/Aug/2022 09:32:39] \"OPTIONS //predict2 HTTP/1.1\" 200 -\n"
     ]
    },
    {
     "name": "stdout",
     "output_type": "stream",
     "text": [
      "Y=       N     P      K  temperature   humidity        ph   rainfall\n",
      "0  60.0  96.0  190.0    33.808346  83.919026  5.691268  80.973583\n",
      "Y=       N     P      K  temperature   humidity        ph   rainfall\n",
      "0  60.0  96.0  190.0    33.808346  83.919026  5.691268  80.973583\n",
      "1/1 [==============================] - 0s 47ms/step\n",
      "1/1 [==============================] - 0s 49ms/step\n"
     ]
    },
    {
     "name": "stderr",
     "output_type": "stream",
     "text": [
      "C:\\Users\\Expert Info\\AppData\\Local\\Temp\\ipykernel_5248\\6600134.py:18: DeprecationWarning: tostring() is deprecated. Use tobytes() instead.\n",
      "  print(prediction.tostring())\n",
      "192.168.43.205 - - [31/Aug/2022 09:32:40] \"POST //predict2 HTTP/1.1\" 200 -\n",
      "192.168.43.205 - - [31/Aug/2022 09:32:40] \"POST //predict2 HTTP/1.1\" 200 -\n"
     ]
    },
    {
     "name": "stdout",
     "output_type": "stream",
     "text": [
      "[ 7  3  1 17  0 15 21 13  8 14  6 12 19  2  9 11 20 10  4 18  5 16][ 7  3  1 17  0 15 21 13  8 14  6 12 19  2  9 11 20 10  4 18  5 16]\n",
      "b'\\xf8\\xf2\\xe68\\xed\\xf9\\x10;pa\\x10(\\x11s3=\\x1e\\xc3\\xf1\\x1ckC\\xc8\\x139nI+o\\xa1s?c!\\xb8,\\x0c\\xe2\\x9e&\\x99\\xbea\"1sD&$~\\xe6*\\x03\\xc0\\xea1U/~,J\\x1c\\xf46\\'g\\xaf\\t4\\xa8\\x0e;L\\x7f\\x01\\x16\\xa4\\xf1\\xec)C+*&_rE5'\n",
      "\n",
      "b'\\xf8\\xf2\\xe68\\xed\\xf9\\x10;pa\\x10(\\x11s3=\\x1e\\xc3\\xf1\\x1ckC\\xc8\\x139nI+o\\xa1s?c!\\xb8,\\x0c\\xe2\\x9e&\\x99\\xbea\"1sD&$~\\xe6*\\x03\\xc0\\xea1U/~,J\\x1c\\xf46\\'g\\xaf\\t4\\xa8\\x0e;L\\x7f\\x01\\x16\\xa4\\xf1\\xec)C+*&_rE5'\n"
     ]
    },
    {
     "name": "stderr",
     "output_type": "stream",
     "text": [
      "192.168.43.205 - - [31/Aug/2022 09:33:38] \"OPTIONS //predict2 HTTP/1.1\" 200 -\n",
      "192.168.43.205 - - [31/Aug/2022 09:33:38] \"OPTIONS //predict2 HTTP/1.1\" 200 -\n"
     ]
    },
    {
     "name": "stdout",
     "output_type": "stream",
     "text": [
      "Y=       N     P      K  temperature   humidity        ph   rainfall\n",
      "0  40.0  26.0  140.0    23.808346  73.919026  5.691268  80.973583\n",
      "Y=       N     P      K  temperature   humidity        ph   rainfall\n",
      "0  40.0  26.0  140.0    23.808346  73.919026  5.691268  80.973583\n",
      "1/1 [==============================] - 0s 58ms/step\n"
     ]
    },
    {
     "name": "stderr",
     "output_type": "stream",
     "text": [
      "C:\\Users\\Expert Info\\AppData\\Local\\Temp\\ipykernel_5248\\6600134.py:18: DeprecationWarning: tostring() is deprecated. Use tobytes() instead.\n",
      "  print(prediction.tostring())\n",
      "192.168.43.205 - - [31/Aug/2022 09:33:38] \"POST //predict2 HTTP/1.1\" 200 -\n"
     ]
    },
    {
     "name": "stdout",
     "output_type": "stream",
     "text": [
      "[17  0 19 21  7  1 12  6 13 15  3 14  8  2 20 11  4 10  9  5 16 18]\n",
      "b'\\x8f\\x9e\\xed=\\x9d\"!:\\xf1\\x10\\x194M\\xbdQ7\\xc6\\xb2\\x97/\\x8fg$%\\xfb\\x04\\xd08\\x93Nt:\\x81m\\x9f4\\xc7\\xa1S(\\xc5\\x18\\x08*M\\xd0\\xe2/\\xa9\\xd6^9\\x9e\\xc9\\xbd8\\xd4\\xc3\\x985\\xb6\\xd698\\xaf7\\xbf#(\\xfc]?~\\x17>\\x1e284<H\\xe5\\x8c2\\xdc\\x98{;'\n",
      "1/1 [==============================] - 0s 39ms/step\n"
     ]
    },
    {
     "name": "stderr",
     "output_type": "stream",
     "text": [
      "192.168.43.205 - - [31/Aug/2022 09:33:38] \"POST //predict2 HTTP/1.1\" 200 -\n"
     ]
    },
    {
     "name": "stdout",
     "output_type": "stream",
     "text": [
      "[17  0 19 21  7  1 12  6 13 15  3 14  8  2 20 11  4 10  9  5 16 18]\n",
      "b'\\x8f\\x9e\\xed=\\x9d\"!:\\xf1\\x10\\x194M\\xbdQ7\\xc6\\xb2\\x97/\\x8fg$%\\xfb\\x04\\xd08\\x93Nt:\\x81m\\x9f4\\xc7\\xa1S(\\xc5\\x18\\x08*M\\xd0\\xe2/\\xa9\\xd6^9\\x9e\\xc9\\xbd8\\xd4\\xc3\\x985\\xb6\\xd698\\xaf7\\xbf#(\\xfc]?~\\x17>\\x1e284<H\\xe5\\x8c2\\xdc\\x98{;'\n"
     ]
    },
    {
     "name": "stderr",
     "output_type": "stream",
     "text": [
      "192.168.43.205 - - [31/Aug/2022 09:35:34] \"OPTIONS //predict2 HTTP/1.1\" 200 -\n",
      "192.168.43.205 - - [31/Aug/2022 09:35:34] \"OPTIONS //predict2 HTTP/1.1\" 200 -\n"
     ]
    },
    {
     "name": "stdout",
     "output_type": "stream",
     "text": [
      "Y=       N     P      K  temperature    humidity        ph    rainfall\n",
      "0  80.0  26.0  140.0    27.808346  123.919026  5.691268  100.973583\n",
      "Y=       N     P      K  temperature    humidity        ph    rainfall\n",
      "0  80.0  26.0  140.0    27.808346  123.919026  5.691268  100.973583\n",
      "1/1 [==============================] - 0s 38ms/step\n"
     ]
    },
    {
     "name": "stderr",
     "output_type": "stream",
     "text": [
      "C:\\Users\\Expert Info\\AppData\\Local\\Temp\\ipykernel_5248\\6600134.py:18: DeprecationWarning: tostring() is deprecated. Use tobytes() instead.\n",
      "  print(prediction.tostring())\n",
      "192.168.43.205 - - [31/Aug/2022 09:35:34] \"POST //predict2 HTTP/1.1\" 200 -\n"
     ]
    },
    {
     "name": "stdout",
     "output_type": "stream",
     "text": [
      "[21 17 19  1 13 15  7 12 14  0  6  8 11  2  3 20  4 10 16  5  9 18]\n",
      "b\"\\xea<r4\\xea\\x0bk8\\xf1\\x8b\\x122\\x8d\\xa9P-\\xa0o:+\\xb1\\x84\\xd4#\\xf3\\x08\\xb73\\xb0\\xf5\\x9f5u\\xe9\\xa63\\x88\\xa7\\xde\\x1b\\x94\\xdd\\xd9*\\xa6[\\x9c2mn\\x055W\\x18\\xdb7\\x08\\xfc\\xce4\\x81F:7[\\x1fQ'\\x00d\\xd3<\\xaf\\x9ai\\x19-A\\xf3;\\x14\\xb6\\x00,\\x17xw?\"\n",
      "1/1 [==============================] - 0s 37ms/step\n"
     ]
    },
    {
     "name": "stderr",
     "output_type": "stream",
     "text": [
      "192.168.43.205 - - [31/Aug/2022 09:35:34] \"POST //predict2 HTTP/1.1\" 200 -\n"
     ]
    },
    {
     "name": "stdout",
     "output_type": "stream",
     "text": [
      "[21 17 19  1 13 15  7 12 14  0  6  8 11  2  3 20  4 10 16  5  9 18]\n",
      "b\"\\xea<r4\\xea\\x0bk8\\xf1\\x8b\\x122\\x8d\\xa9P-\\xa0o:+\\xb1\\x84\\xd4#\\xf3\\x08\\xb73\\xb0\\xf5\\x9f5u\\xe9\\xa63\\x88\\xa7\\xde\\x1b\\x94\\xdd\\xd9*\\xa6[\\x9c2mn\\x055W\\x18\\xdb7\\x08\\xfc\\xce4\\x81F:7[\\x1fQ'\\x00d\\xd3<\\xaf\\x9ai\\x19-A\\xf3;\\x14\\xb6\\x00,\\x17xw?\"\n"
     ]
    },
    {
     "name": "stderr",
     "output_type": "stream",
     "text": [
      "192.168.43.205 - - [31/Aug/2022 09:36:38] \"OPTIONS //predict2 HTTP/1.1\" 200 -\n",
      "192.168.43.205 - - [31/Aug/2022 09:36:38] \"OPTIONS //predict2 HTTP/1.1\" 200 -\n"
     ]
    },
    {
     "name": "stdout",
     "output_type": "stream",
     "text": [
      "Y=       N     P      K  temperature    humidity        ph    rainfall\n",
      "0  80.0  66.0  140.0    27.808346  123.919026  5.691268  100.973583\n",
      "Y=       N     P      K  temperature    humidity        ph    rainfall\n",
      "0  80.0  66.0  140.0    27.808346  123.919026  5.691268  100.973583\n",
      "1/1 [==============================] - 0s 49ms/step\n",
      "1/1 [==============================] - 0s 45ms/step\n"
     ]
    },
    {
     "name": "stderr",
     "output_type": "stream",
     "text": [
      "C:\\Users\\Expert Info\\AppData\\Local\\Temp\\ipykernel_5248\\6600134.py:18: DeprecationWarning: tostring() is deprecated. Use tobytes() instead.\n",
      "  print(prediction.tostring())\n",
      "192.168.43.205 - - [31/Aug/2022 09:36:39] \"POST //predict2 HTTP/1.1\" 200 -\n",
      "192.168.43.205 - - [31/Aug/2022 09:36:39] \"POST //predict2 HTTP/1.1\" 200 -\n"
     ]
    },
    {
     "name": "stdout",
     "output_type": "stream",
     "text": [
      "[17 21  1 15  0 19  7 13 11 14  6  8  2 12  3 10 20  4 16  9  5 18]\n",
      "b'\\xbd\\x0c69Y#\\x85<;\\x14\\xcd2\\xed\\xa3R1\\xad\\x15\\xb2(\\x8f\\x95\" \\xf0\\xb4j3\\xdf\\x9b\\xa17\\xea273\\xf2!B \\xb2\\xf8\\x14/\\x1ao\\xcb3\\xdb\\x1f\\x811BP\\x897!\\xe4\\x833\\x8di\\x8b:p\\xe8s!V\\xe4S?\\xb2[\\'\\x1aZ\\'-9f\\xbb\\xb4-0Q\\x1e>'\n",
      "[17 21  1 15  0 19  7 13 11 14  6  8  2 12  3 10 20  4 16  9  5 18]\n",
      "b'\\xbd\\x0c69Y#\\x85<;\\x14\\xcd2\\xed\\xa3R1\\xad\\x15\\xb2(\\x8f\\x95\" \\xf0\\xb4j3\\xdf\\x9b\\xa17\\xea273\\xf2!B \\xb2\\xf8\\x14/\\x1ao\\xcb3\\xdb\\x1f\\x811BP\\x897!\\xe4\\x833\\x8di\\x8b:p\\xe8s!V\\xe4S?\\xb2[\\'\\x1aZ\\'-9f\\xbb\\xb4-0Q\\x1e>'\n"
     ]
    },
    {
     "name": "stderr",
     "output_type": "stream",
     "text": [
      "192.168.43.205 - - [31/Aug/2022 09:37:29] \"OPTIONS //predict2 HTTP/1.1\" 200 -\n",
      "192.168.43.205 - - [31/Aug/2022 09:37:29] \"OPTIONS //predict2 HTTP/1.1\" 200 -\n"
     ]
    },
    {
     "name": "stdout",
     "output_type": "stream",
     "text": [
      "Y=       N     P      K  temperature   humidity        ph    rainfall\n",
      "0  80.0  66.0  140.0    27.808346  80.919026  5.691268  100.973583\n",
      "Y=       N     P      K  temperature   humidity        ph    rainfall\n",
      "0  80.0  66.0  140.0    27.808346  80.919026  5.691268  100.973583\n",
      "1/1 [==============================] - 0s 53ms/step\n"
     ]
    },
    {
     "name": "stderr",
     "output_type": "stream",
     "text": [
      "C:\\Users\\Expert Info\\AppData\\Local\\Temp\\ipykernel_5248\\6600134.py:18: DeprecationWarning: tostring() is deprecated. Use tobytes() instead.\n",
      "  print(prediction.tostring())\n",
      "192.168.43.205 - - [31/Aug/2022 09:37:30] \"POST //predict2 HTTP/1.1\" 200 -\n"
     ]
    },
    {
     "name": "stdout",
     "output_type": "stream",
     "text": [
      "[ 1 21 17  7  3  0 15 13  8 11 12  6 19  2 20 14 10  9  4  5 16 18]\n",
      "b\"\\xbb+/7\\x8dny?\\x14\\x18\\x8b/\\xb2\\x1a\\xb68\\x00DE'e\\xefK!\\\\\\t71\\xc2;G9\\x94b\\x185-h\\x94'\\xc6|\\xaa(\\x82\\xd3]2[E>1\\xe1\\x0b\\xbb5P1\\xc3-\\x8d\\x15\\xc06.F\\xda\\x1d\\x07\\xb6\\x13;\\x05\\xc7/\\x1cnh\\x8705\\xf4:.\\xe3L\\xbd<\"\n",
      "1/1 [==============================] - 0s 46ms/step\n"
     ]
    },
    {
     "name": "stderr",
     "output_type": "stream",
     "text": [
      "192.168.43.205 - - [31/Aug/2022 09:37:30] \"POST //predict2 HTTP/1.1\" 200 -\n"
     ]
    },
    {
     "name": "stdout",
     "output_type": "stream",
     "text": [
      "[ 1 21 17  7  3  0 15 13  8 11 12  6 19  2 20 14 10  9  4  5 16 18]\n",
      "b\"\\xbb+/7\\x8dny?\\x14\\x18\\x8b/\\xb2\\x1a\\xb68\\x00DE'e\\xefK!\\\\\\t71\\xc2;G9\\x94b\\x185-h\\x94'\\xc6|\\xaa(\\x82\\xd3]2[E>1\\xe1\\x0b\\xbb5P1\\xc3-\\x8d\\x15\\xc06.F\\xda\\x1d\\x07\\xb6\\x13;\\x05\\xc7/\\x1cnh\\x8705\\xf4:.\\xe3L\\xbd<\"\n"
     ]
    },
    {
     "name": "stderr",
     "output_type": "stream",
     "text": [
      "192.168.43.205 - - [31/Aug/2022 09:38:35] \"OPTIONS //predict2 HTTP/1.1\" 200 -\n",
      "192.168.43.205 - - [31/Aug/2022 09:38:35] \"OPTIONS //predict2 HTTP/1.1\" 200 -\n"
     ]
    },
    {
     "name": "stdout",
     "output_type": "stream",
     "text": [
      "Y=       N     P      K  temperature    humidity        ph    rainfall\n",
      "0  80.0  66.0  140.0    27.808346  100.919026  6.691268  100.973583\n",
      "Y=       N     P      K  temperature    humidity        ph    rainfall\n",
      "0  80.0  66.0  140.0    27.808346  100.919026  6.691268  100.973583\n",
      "1/1 [==============================] - 0s 35ms/step\n",
      "1/1 [==============================] - 0s 37ms/step\n",
      "[ 1 21 17 15  0  7 13 19  8  3 11  6  2 12 14 20 10  4  9  5 16 18]\n",
      "b'V=\\n9q\\x11B?-\\x18\\xcc1\\xa7m>5_!\\x89(\\xe1\\x1e1\"\\xdefa3\\xe9\\xa0\\xf98\\xb6\\xf4\\xc559m\\x9f$\\xf8\\xad\\x1b-Glg4\\x8fu\\xb51;\"\\x977\\xabo\\x191\\xa6\\xda\\xbc9\\xab\\x1d\\xa2 unx=\\xf3I\\xc9\\x1b\\xfc\\xdc\\x036/\\xb7+/\\x8c\\xf88>'\n"
     ]
    },
    {
     "name": "stderr",
     "output_type": "stream",
     "text": [
      "C:\\Users\\Expert Info\\AppData\\Local\\Temp\\ipykernel_5248\\6600134.py:18: DeprecationWarning: tostring() is deprecated. Use tobytes() instead.\n",
      "  print(prediction.tostring())\n",
      "192.168.43.205 - - [31/Aug/2022 09:38:35] \"POST //predict2 HTTP/1.1\" 200 -\n",
      "192.168.43.205 - - [31/Aug/2022 09:38:35] \"POST //predict2 HTTP/1.1\" 200 -\n"
     ]
    },
    {
     "name": "stdout",
     "output_type": "stream",
     "text": [
      "[ 1 21 17 15  0  7 13 19  8  3 11  6  2 12 14 20 10  4  9  5 16 18]\n",
      "b'V=\\n9q\\x11B?-\\x18\\xcc1\\xa7m>5_!\\x89(\\xe1\\x1e1\"\\xdefa3\\xe9\\xa0\\xf98\\xb6\\xf4\\xc559m\\x9f$\\xf8\\xad\\x1b-Glg4\\x8fu\\xb51;\"\\x977\\xabo\\x191\\xa6\\xda\\xbc9\\xab\\x1d\\xa2 unx=\\xf3I\\xc9\\x1b\\xfc\\xdc\\x036/\\xb7+/\\x8c\\xf88>'\n"
     ]
    },
    {
     "name": "stderr",
     "output_type": "stream",
     "text": [
      "192.168.43.205 - - [31/Aug/2022 09:49:49] \"OPTIONS //predict2 HTTP/1.1\" 200 -\n",
      "192.168.43.205 - - [31/Aug/2022 09:49:49] \"OPTIONS //predict2 HTTP/1.1\" 200 -\n"
     ]
    },
    {
     "name": "stdout",
     "output_type": "stream",
     "text": [
      "Y=       N     P      K  temperature    humidity        ph    rainfall\n",
      "0  80.0  66.0  140.0    27.808346  100.919026  6.691268  100.973583\n",
      "Y=       N     P      K  temperature    humidity        ph    rainfall\n",
      "0  80.0  66.0  140.0    27.808346  100.919026  6.691268  100.973583\n",
      "1/1 [==============================] - 0s 40ms/step\n"
     ]
    },
    {
     "name": "stderr",
     "output_type": "stream",
     "text": [
      "C:\\Users\\Expert Info\\AppData\\Local\\Temp\\ipykernel_5248\\6600134.py:18: DeprecationWarning: tostring() is deprecated. Use tobytes() instead.\n",
      "  print(prediction.tostring())\n",
      "192.168.43.205 - - [31/Aug/2022 09:49:50] \"POST //predict2 HTTP/1.1\" 200 -\n"
     ]
    },
    {
     "name": "stdout",
     "output_type": "stream",
     "text": [
      "[ 1 21 17 15  0  7 13 19  8  3 11  6  2 12 14 20 10  4  9  5 16 18]\n",
      "b'V=\\n9q\\x11B?-\\x18\\xcc1\\xa7m>5_!\\x89(\\xe1\\x1e1\"\\xdefa3\\xe9\\xa0\\xf98\\xb6\\xf4\\xc559m\\x9f$\\xf8\\xad\\x1b-Glg4\\x8fu\\xb51;\"\\x977\\xabo\\x191\\xa6\\xda\\xbc9\\xab\\x1d\\xa2 unx=\\xf3I\\xc9\\x1b\\xfc\\xdc\\x036/\\xb7+/\\x8c\\xf88>'\n",
      "1/1 [==============================] - 0s 34ms/step\n"
     ]
    },
    {
     "name": "stderr",
     "output_type": "stream",
     "text": [
      "192.168.43.205 - - [31/Aug/2022 09:49:50] \"POST //predict2 HTTP/1.1\" 200 -\n"
     ]
    },
    {
     "name": "stdout",
     "output_type": "stream",
     "text": [
      "[ 1 21 17 15  0  7 13 19  8  3 11  6  2 12 14 20 10  4  9  5 16 18]\n",
      "b'V=\\n9q\\x11B?-\\x18\\xcc1\\xa7m>5_!\\x89(\\xe1\\x1e1\"\\xdefa3\\xe9\\xa0\\xf98\\xb6\\xf4\\xc559m\\x9f$\\xf8\\xad\\x1b-Glg4\\x8fu\\xb51;\"\\x977\\xabo\\x191\\xa6\\xda\\xbc9\\xab\\x1d\\xa2 unx=\\xf3I\\xc9\\x1b\\xfc\\xdc\\x036/\\xb7+/\\x8c\\xf88>'\n"
     ]
    },
    {
     "name": "stderr",
     "output_type": "stream",
     "text": [
      "192.168.43.205 - - [31/Aug/2022 10:29:10] \"OPTIONS //predict2 HTTP/1.1\" 200 -\n",
      "192.168.43.205 - - [31/Aug/2022 10:29:10] \"OPTIONS //predict2 HTTP/1.1\" 200 -\n"
     ]
    },
    {
     "name": "stdout",
     "output_type": "stream",
     "text": [
      "Y=       N     P      K  temperature    humidity        ph    rainfall\n",
      "0  80.0  66.0  140.0    27.808346  100.919026  6.691268  100.973583\n",
      "Y=       N     P      K  temperature    humidity        ph    rainfall\n",
      "0  80.0  66.0  140.0    27.808346  100.919026  6.691268  100.973583\n",
      "1/1 [==============================] - 0s 21ms/step\n",
      "1/1 [==============================] - 0s 20ms/step\n"
     ]
    },
    {
     "name": "stderr",
     "output_type": "stream",
     "text": [
      "C:\\Users\\Expert Info\\AppData\\Local\\Temp\\ipykernel_5248\\6600134.py:18: DeprecationWarning: tostring() is deprecated. Use tobytes() instead.\n",
      "  print(prediction.tostring())\n",
      "192.168.43.205 - - [31/Aug/2022 10:29:11] \"POST //predict2 HTTP/1.1\" 200 -\n",
      "192.168.43.205 - - [31/Aug/2022 10:29:11] \"POST //predict2 HTTP/1.1\" 200 -\n"
     ]
    },
    {
     "name": "stdout",
     "output_type": "stream",
     "text": [
      "[ 1 21 17 15  0  7 13 19  8  3 11  6  2 12 14 20 10  4  9  5 16 18][ 1 21 17 15  0  7 13 19  8  3 11  6  2 12 14 20 10  4  9  5 16 18]\n",
      "b'V=\\n9q\\x11B?-\\x18\\xcc1\\xa7m>5_!\\x89(\\xe1\\x1e1\"\\xdefa3\\xe9\\xa0\\xf98\\xb6\\xf4\\xc559m\\x9f$\\xf8\\xad\\x1b-Glg4\\x8fu\\xb51;\"\\x977\\xabo\\x191\\xa6\\xda\\xbc9\\xab\\x1d\\xa2 unx=\\xf3I\\xc9\\x1b\\xfc\\xdc\\x036/\\xb7+/\\x8c\\xf88>'\n",
      "\n",
      "b'V=\\n9q\\x11B?-\\x18\\xcc1\\xa7m>5_!\\x89(\\xe1\\x1e1\"\\xdefa3\\xe9\\xa0\\xf98\\xb6\\xf4\\xc559m\\x9f$\\xf8\\xad\\x1b-Glg4\\x8fu\\xb51;\"\\x977\\xabo\\x191\\xa6\\xda\\xbc9\\xab\\x1d\\xa2 unx=\\xf3I\\xc9\\x1b\\xfc\\xdc\\x036/\\xb7+/\\x8c\\xf88>'\n"
     ]
    },
    {
     "name": "stderr",
     "output_type": "stream",
     "text": [
      "192.168.43.205 - - [31/Aug/2022 10:48:17] \"OPTIONS //predict2 HTTP/1.1\" 200 -\n",
      "192.168.43.205 - - [31/Aug/2022 10:48:17] \"OPTIONS //predict2 HTTP/1.1\" 200 -\n"
     ]
    },
    {
     "name": "stdout",
     "output_type": "stream",
     "text": [
      "Y=       N     P      K  temperature    humidity        ph    rainfall\n",
      "0  80.0  66.0  140.0    27.808346  100.919026  6.691268  100.973583\n",
      "Y=       N     P      K  temperature    humidity        ph    rainfall\n",
      "0  80.0  66.0  140.0    27.808346  100.919026  6.691268  100.973583\n",
      "1/1 [==============================] - 0s 15ms/step\n"
     ]
    },
    {
     "name": "stderr",
     "output_type": "stream",
     "text": [
      "C:\\Users\\Expert Info\\AppData\\Local\\Temp\\ipykernel_5248\\6600134.py:18: DeprecationWarning: tostring() is deprecated. Use tobytes() instead.\n",
      "  print(prediction.tostring())\n",
      "192.168.43.205 - - [31/Aug/2022 10:48:17] \"POST //predict2 HTTP/1.1\" 200 -\n"
     ]
    },
    {
     "name": "stdout",
     "output_type": "stream",
     "text": [
      "[ 1 21 17 15  0  7 13 19  8  3 11  6  2 12 14 20 10  4  9  5 16 18]\n",
      "b'V=\\n9q\\x11B?-\\x18\\xcc1\\xa7m>5_!\\x89(\\xe1\\x1e1\"\\xdefa3\\xe9\\xa0\\xf98\\xb6\\xf4\\xc559m\\x9f$\\xf8\\xad\\x1b-Glg4\\x8fu\\xb51;\"\\x977\\xabo\\x191\\xa6\\xda\\xbc9\\xab\\x1d\\xa2 unx=\\xf3I\\xc9\\x1b\\xfc\\xdc\\x036/\\xb7+/\\x8c\\xf88>'\n",
      "1/1 [==============================] - 0s 16ms/step\n"
     ]
    },
    {
     "name": "stderr",
     "output_type": "stream",
     "text": [
      "192.168.43.205 - - [31/Aug/2022 10:48:17] \"POST //predict2 HTTP/1.1\" 200 -\n"
     ]
    },
    {
     "name": "stdout",
     "output_type": "stream",
     "text": [
      "[ 1 21 17 15  0  7 13 19  8  3 11  6  2 12 14 20 10  4  9  5 16 18]\n",
      "b'V=\\n9q\\x11B?-\\x18\\xcc1\\xa7m>5_!\\x89(\\xe1\\x1e1\"\\xdefa3\\xe9\\xa0\\xf98\\xb6\\xf4\\xc559m\\x9f$\\xf8\\xad\\x1b-Glg4\\x8fu\\xb51;\"\\x977\\xabo\\x191\\xa6\\xda\\xbc9\\xab\\x1d\\xa2 unx=\\xf3I\\xc9\\x1b\\xfc\\xdc\\x036/\\xb7+/\\x8c\\xf88>'\n"
     ]
    }
   ],
   "source": [
    "if __name__ == \"__main__\":\n",
    "    flask_app.run(debug=True,use_reloader=False , host=\"0.0.0.0\")"
   ]
  },
  {
   "cell_type": "code",
   "execution_count": null,
   "id": "3e890ca1",
   "metadata": {},
   "outputs": [],
   "source": []
  },
  {
   "cell_type": "code",
   "execution_count": null,
   "id": "69b66eb4",
   "metadata": {},
   "outputs": [],
   "source": []
  }
 ],
 "metadata": {
  "kernelspec": {
   "display_name": "Python 3 (ipykernel)",
   "language": "python",
   "name": "python3"
  },
  "language_info": {
   "codemirror_mode": {
    "name": "ipython",
    "version": 3
   },
   "file_extension": ".py",
   "mimetype": "text/x-python",
   "name": "python",
   "nbconvert_exporter": "python",
   "pygments_lexer": "ipython3",
   "version": "3.9.12"
  }
 },
 "nbformat": 4,
 "nbformat_minor": 5
}
