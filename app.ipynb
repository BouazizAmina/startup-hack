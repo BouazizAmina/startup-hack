{
 "cells": [
  {
   "cell_type": "code",
   "execution_count": 257,
   "id": "addb9959",
   "metadata": {},
   "outputs": [],
   "source": [
    "import numpy as np\n",
    "import pandas as pd\n",
    "from flask import Flask, request, jsonify, render_template\n",
    "import pickle\n",
    "import joblib\n",
    "import json\n",
    "from tensorflow import keras\n",
    "from sklearn.preprocessing import StandardScaler, LabelEncoder\n",
    "le = LabelEncoder()"
   ]
  },
  {
   "cell_type": "code",
   "execution_count": 258,
   "id": "54cee352",
   "metadata": {},
   "outputs": [],
   "source": [
    "# Create flask app\n",
    "flask_app = Flask(__name__)\n",
    "\n",
    "model =keras.models.load_model(\"my_h5_model.h5\")\n",
    "# model = pickle.load(open(\"model.pkl\",\"rb\"))"
   ]
  },
  {
   "cell_type": "code",
   "execution_count": 259,
   "id": "055030a6",
   "metadata": {},
   "outputs": [],
   "source": [
    "@flask_app.route(\"/\")\n",
    "def Home():\n",
    "    return render_template(\"index.html\")"
   ]
  },
  {
   "cell_type": "code",
   "execution_count": 260,
   "id": "37b4e0c7",
   "metadata": {},
   "outputs": [],
   "source": [
    "@flask_app.route(\"/predict2\", methods = [\"POST\"])\n",
    "def predict():\n",
    "    pkl_file = open('Departure_encoder.pkl', 'rb')\n",
    "    le_departure = pickle.load(pkl_file) \n",
    "    pkl_file.close()\n",
    "    x = request.get_json()[\"result_arr\"]\n",
    "    y = pd.DataFrame(columns=[\"N\" , \"P\" , \"K\",\"temperature\" , \"humidity\",\"ph\",\"rainfall\" ])\n",
    "    y.loc[0]=x\n",
    "    print(\"Y=\",y )\n",
    "\n",
    "#     y = json.loads(x)\n",
    "    \n",
    "\n",
    "    prediction = model.predict(y)\n",
    "    max3_values = np.argsort(prediction[0])[::-1]\n",
    "    classes = le_departure.inverse_transform(max3_values)\n",
    "    print(max3_values)\n",
    "    print(prediction.tostring())\n",
    "# #     return render_template(\"index.html\", prediction_text = \"The flower species is {}\".format(prediction))\n",
    "#     return render_template(\"index.html\", value = json.dumps({prediction}))\n",
    "    return jsonify(result=prediction.tolist()[0] , indexes=max3_values.tolist() , classes=classes.tolist())"
   ]
  },
  {
   "cell_type": "code",
   "execution_count": null,
   "id": "be18d1f6",
   "metadata": {},
   "outputs": [
    {
     "name": "stdout",
     "output_type": "stream",
     "text": [
      " * Serving Flask app \"__main__\" (lazy loading)\n",
      " * Environment: production\n",
      "\u001b[31m   WARNING: This is a development server. Do not use it in a production deployment.\u001b[0m\n",
      "\u001b[2m   Use a production WSGI server instead.\u001b[0m\n",
      " * Debug mode: on\n"
     ]
    },
    {
     "name": "stderr",
     "output_type": "stream",
     "text": [
      " * Running on all addresses.\n",
      "   WARNING: This is a development server. Do not use it in a production deployment.\n",
      " * Running on http://10.10.1.254:5000/ (Press CTRL+C to quit)\n"
     ]
    },
    {
     "name": "stdout",
     "output_type": "stream",
     "text": [
      "Y=        N     P     K  temperature   humidity        ph   rainfall\n",
      "0  134.0  56.0  18.0    23.808346  83.919026  6.691268  70.973583\n",
      "1/1 [==============================] - 0s 114ms/step\n"
     ]
    },
    {
     "name": "stderr",
     "output_type": "stream",
     "text": [
      "C:\\Users\\Expert Info\\AppData\\Local\\Temp\\ipykernel_5248\\6600134.py:18: DeprecationWarning: tostring() is deprecated. Use tobytes() instead.\n",
      "  print(prediction.tostring())\n",
      "127.0.0.1 - - [31/Aug/2022 06:42:30] \"POST /predict2 HTTP/1.1\" 200 -\n"
     ]
    },
    {
     "name": "stdout",
     "output_type": "stream",
     "text": [
      "[ 6 11  7 15  1  5  2 12 17  8 13  3 21 20 14 10 18 16 19  0  9  4]\n",
      "b'\\x1c6\\x81\\'\\xa0\\xec\\xc36l\\nH6\\xe1\\xba+4\\t\\xf0@\\x1a\\x16\\xb8\\xaf6\\xca\\x99~?\\x85U\\xa98\\x98\\xbdq5\\x08\\x0fv\\'\\xad\\xc7\\x8c/8\\xe2\\xae;:(-6\\xaf\\xc2w4\\x001D0\\x96)\\xec7i\\x8ck)\\x98\\xe0\\x056F\"\\x07+\\xee\\xa8\\x0e)\\xd2\\x7f\\x1f3\\xc9\\x98\\xac3'\n",
      "Y=        N     P     K  temperature   humidity        ph   rainfall\n",
      "0  134.0  56.0  18.0    23.808346  83.919026  6.691268  70.973583\n",
      "1/1 [==============================] - 0s 34ms/step\n"
     ]
    },
    {
     "name": "stderr",
     "output_type": "stream",
     "text": [
      "C:\\Users\\Expert Info\\AppData\\Local\\Temp\\ipykernel_5248\\6600134.py:18: DeprecationWarning: tostring() is deprecated. Use tobytes() instead.\n",
      "  print(prediction.tostring())\n",
      "127.0.0.1 - - [31/Aug/2022 06:44:09] \"POST /predict2 HTTP/1.1\" 200 -\n"
     ]
    },
    {
     "name": "stdout",
     "output_type": "stream",
     "text": [
      "[ 6 11  7 15  1  5  2 12 17  8 13  3 21 20 14 10 18 16 19  0  9  4]\n",
      "b'\\x1c6\\x81\\'\\xa0\\xec\\xc36l\\nH6\\xe1\\xba+4\\t\\xf0@\\x1a\\x16\\xb8\\xaf6\\xca\\x99~?\\x85U\\xa98\\x98\\xbdq5\\x08\\x0fv\\'\\xad\\xc7\\x8c/8\\xe2\\xae;:(-6\\xaf\\xc2w4\\x001D0\\x96)\\xec7i\\x8ck)\\x98\\xe0\\x056F\"\\x07+\\xee\\xa8\\x0e)\\xd2\\x7f\\x1f3\\xc9\\x98\\xac3'\n"
     ]
    }
   ],
   "source": [
    "if __name__ == \"__main__\":\n",
    "    flask_app.run(debug=True,use_reloader=False , host=\"0.0.0.0\")"
   ]
  },
  {
   "cell_type": "code",
   "execution_count": null,
   "id": "3e890ca1",
   "metadata": {},
   "outputs": [],
   "source": []
  },
  {
   "cell_type": "code",
   "execution_count": null,
   "id": "6785e0d0",
   "metadata": {},
   "outputs": [],
   "source": []
  }
 ],
 "metadata": {
  "kernelspec": {
   "display_name": "Python 3 (ipykernel)",
   "language": "python",
   "name": "python3"
  },
  "language_info": {
   "codemirror_mode": {
    "name": "ipython",
    "version": 3
   },
   "file_extension": ".py",
   "mimetype": "text/x-python",
   "name": "python",
   "nbconvert_exporter": "python",
   "pygments_lexer": "ipython3",
   "version": "3.9.12"
  }
 },
 "nbformat": 4,
 "nbformat_minor": 5
}
