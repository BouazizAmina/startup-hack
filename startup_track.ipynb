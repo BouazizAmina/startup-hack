{
 "cells": [
  {
   "cell_type": "markdown",
   "id": "bb13cf3a",
   "metadata": {},
   "source": [
    "# 1. Install and Import Dependencies"
   ]
  },
  {
   "cell_type": "code",
   "execution_count": 228,
   "id": "ffe60852",
   "metadata": {},
   "outputs": [],
   "source": [
    "import os\n",
    "import numpy as np\n",
    "import pandas as pd\n",
    "import tensorflow as tf\n",
    "from tensorflow import keras\n",
    "from sklearn.model_selection import train_test_split\n",
    "from tensorflow.keras.utils import to_categorical\n",
    "from sklearn.preprocessing import StandardScaler, LabelEncoder\n",
    "le = LabelEncoder()\n",
    "import pickle\n",
    "\n",
    "# std = StandardScaler()"
   ]
  },
  {
   "cell_type": "markdown",
   "id": "313d05f1",
   "metadata": {},
   "source": [
    "# 2. Load the data"
   ]
  },
  {
   "cell_type": "code",
   "execution_count": 229,
   "id": "42541d41",
   "metadata": {},
   "outputs": [],
   "source": [
    "df = pd.read_csv(\"datasets/Crop_recommendation.csv\") "
   ]
  },
  {
   "cell_type": "markdown",
   "id": "e53494e6",
   "metadata": {},
   "source": [
    "# 3. Pre-processing the data"
   ]
  },
  {
   "cell_type": "code",
   "execution_count": 230,
   "id": "f3c8ad9a",
   "metadata": {},
   "outputs": [
    {
     "name": "stdout",
     "output_type": "stream",
     "text": [
      "          label\n",
      "1975     cotton\n",
      "1287     grapes\n",
      "760   blackgram\n",
      "267    chickpea\n",
      "2007       jute\n",
      "...         ...\n",
      "1033     banana\n",
      "1731     papaya\n",
      "763   blackgram\n",
      "835      lentil\n",
      "1653     orange\n",
      "\n",
      "[1650 rows x 1 columns]\n",
      "['apple' 'banana' 'blackgram' 'chickpea' 'coconut' 'coffee' 'cotton'\n",
      " 'grapes' 'jute' 'kidneybeans' 'lentil' 'maize' 'mango' 'mothbeans'\n",
      " 'mungbean' 'muskmelon' 'orange' 'papaya' 'pigeonpeas' 'pomegranate'\n",
      " 'rice' 'watermelon']\n"
     ]
    }
   ],
   "source": [
    "x = df.drop(columns=\"label\")\n",
    "y = pd.DataFrame(df['label'],columns=['label'])\n",
    "x_train, x_test, y_train, y_test = train_test_split(x, y, random_state=0, train_size = .75)\n",
    "print(y_train)\n",
    "y_train[\"label\"] = le.fit_transform(y_train[\"label\"])\n",
    "# \n",
    "y_test[\"label\"] = le.transform(y_test[\"label\"])\n",
    "print(le.classes_)\n",
    "#np.save('classes.npy', le.classes_)\n",
    "\n",
    "# y_test"
   ]
  },
  {
   "cell_type": "code",
   "execution_count": 231,
   "id": "ebd9afa5",
   "metadata": {},
   "outputs": [
    {
     "data": {
      "text/html": [
       "<div>\n",
       "<style scoped>\n",
       "    .dataframe tbody tr th:only-of-type {\n",
       "        vertical-align: middle;\n",
       "    }\n",
       "\n",
       "    .dataframe tbody tr th {\n",
       "        vertical-align: top;\n",
       "    }\n",
       "\n",
       "    .dataframe thead th {\n",
       "        text-align: right;\n",
       "    }\n",
       "</style>\n",
       "<table border=\"1\" class=\"dataframe\">\n",
       "  <thead>\n",
       "    <tr style=\"text-align: right;\">\n",
       "      <th></th>\n",
       "      <th>N</th>\n",
       "      <th>P</th>\n",
       "      <th>K</th>\n",
       "      <th>temperature</th>\n",
       "      <th>humidity</th>\n",
       "      <th>ph</th>\n",
       "      <th>rainfall</th>\n",
       "    </tr>\n",
       "  </thead>\n",
       "  <tbody>\n",
       "    <tr>\n",
       "      <th>1975</th>\n",
       "      <td>134</td>\n",
       "      <td>56</td>\n",
       "      <td>18</td>\n",
       "      <td>23.808346</td>\n",
       "      <td>83.919026</td>\n",
       "      <td>6.691268</td>\n",
       "      <td>70.973583</td>\n",
       "    </tr>\n",
       "    <tr>\n",
       "      <th>1287</th>\n",
       "      <td>29</td>\n",
       "      <td>122</td>\n",
       "      <td>196</td>\n",
       "      <td>41.948657</td>\n",
       "      <td>81.155952</td>\n",
       "      <td>5.638328</td>\n",
       "      <td>73.068630</td>\n",
       "    </tr>\n",
       "    <tr>\n",
       "      <th>760</th>\n",
       "      <td>25</td>\n",
       "      <td>68</td>\n",
       "      <td>19</td>\n",
       "      <td>29.399827</td>\n",
       "      <td>64.255107</td>\n",
       "      <td>7.108450</td>\n",
       "      <td>67.476773</td>\n",
       "    </tr>\n",
       "    <tr>\n",
       "      <th>267</th>\n",
       "      <td>41</td>\n",
       "      <td>69</td>\n",
       "      <td>82</td>\n",
       "      <td>20.023815</td>\n",
       "      <td>16.632945</td>\n",
       "      <td>6.715587</td>\n",
       "      <td>68.978065</td>\n",
       "    </tr>\n",
       "    <tr>\n",
       "      <th>2007</th>\n",
       "      <td>70</td>\n",
       "      <td>43</td>\n",
       "      <td>40</td>\n",
       "      <td>24.355641</td>\n",
       "      <td>88.803910</td>\n",
       "      <td>6.176860</td>\n",
       "      <td>169.116803</td>\n",
       "    </tr>\n",
       "    <tr>\n",
       "      <th>...</th>\n",
       "      <td>...</td>\n",
       "      <td>...</td>\n",
       "      <td>...</td>\n",
       "      <td>...</td>\n",
       "      <td>...</td>\n",
       "      <td>...</td>\n",
       "      <td>...</td>\n",
       "    </tr>\n",
       "    <tr>\n",
       "      <th>1033</th>\n",
       "      <td>102</td>\n",
       "      <td>71</td>\n",
       "      <td>48</td>\n",
       "      <td>28.654563</td>\n",
       "      <td>79.286937</td>\n",
       "      <td>5.695268</td>\n",
       "      <td>102.463378</td>\n",
       "    </tr>\n",
       "    <tr>\n",
       "      <th>1731</th>\n",
       "      <td>34</td>\n",
       "      <td>68</td>\n",
       "      <td>51</td>\n",
       "      <td>27.347349</td>\n",
       "      <td>94.177567</td>\n",
       "      <td>6.687088</td>\n",
       "      <td>40.351531</td>\n",
       "    </tr>\n",
       "    <tr>\n",
       "      <th>763</th>\n",
       "      <td>35</td>\n",
       "      <td>64</td>\n",
       "      <td>15</td>\n",
       "      <td>28.474423</td>\n",
       "      <td>63.536045</td>\n",
       "      <td>6.500145</td>\n",
       "      <td>69.527441</td>\n",
       "    </tr>\n",
       "    <tr>\n",
       "      <th>835</th>\n",
       "      <td>39</td>\n",
       "      <td>65</td>\n",
       "      <td>23</td>\n",
       "      <td>25.434598</td>\n",
       "      <td>69.126134</td>\n",
       "      <td>7.685959</td>\n",
       "      <td>41.026829</td>\n",
       "    </tr>\n",
       "    <tr>\n",
       "      <th>1653</th>\n",
       "      <td>14</td>\n",
       "      <td>22</td>\n",
       "      <td>9</td>\n",
       "      <td>17.249446</td>\n",
       "      <td>91.137728</td>\n",
       "      <td>6.543192</td>\n",
       "      <td>112.509052</td>\n",
       "    </tr>\n",
       "  </tbody>\n",
       "</table>\n",
       "<p>1650 rows × 7 columns</p>\n",
       "</div>"
      ],
      "text/plain": [
       "        N    P    K  temperature   humidity        ph    rainfall\n",
       "1975  134   56   18    23.808346  83.919026  6.691268   70.973583\n",
       "1287   29  122  196    41.948657  81.155952  5.638328   73.068630\n",
       "760    25   68   19    29.399827  64.255107  7.108450   67.476773\n",
       "267    41   69   82    20.023815  16.632945  6.715587   68.978065\n",
       "2007   70   43   40    24.355641  88.803910  6.176860  169.116803\n",
       "...   ...  ...  ...          ...        ...       ...         ...\n",
       "1033  102   71   48    28.654563  79.286937  5.695268  102.463378\n",
       "1731   34   68   51    27.347349  94.177567  6.687088   40.351531\n",
       "763    35   64   15    28.474423  63.536045  6.500145   69.527441\n",
       "835    39   65   23    25.434598  69.126134  7.685959   41.026829\n",
       "1653   14   22    9    17.249446  91.137728  6.543192  112.509052\n",
       "\n",
       "[1650 rows x 7 columns]"
      ]
     },
     "execution_count": 231,
     "metadata": {},
     "output_type": "execute_result"
    }
   ],
   "source": [
    "x_train"
   ]
  },
  {
   "cell_type": "code",
   "execution_count": 232,
   "id": "65b036ec",
   "metadata": {},
   "outputs": [
    {
     "data": {
      "text/html": [
       "<div>\n",
       "<style scoped>\n",
       "    .dataframe tbody tr th:only-of-type {\n",
       "        vertical-align: middle;\n",
       "    }\n",
       "\n",
       "    .dataframe tbody tr th {\n",
       "        vertical-align: top;\n",
       "    }\n",
       "\n",
       "    .dataframe thead th {\n",
       "        text-align: right;\n",
       "    }\n",
       "</style>\n",
       "<table border=\"1\" class=\"dataframe\">\n",
       "  <thead>\n",
       "    <tr style=\"text-align: right;\">\n",
       "      <th></th>\n",
       "      <th>label</th>\n",
       "    </tr>\n",
       "  </thead>\n",
       "  <tbody>\n",
       "    <tr>\n",
       "      <th>1975</th>\n",
       "      <td>6</td>\n",
       "    </tr>\n",
       "    <tr>\n",
       "      <th>1287</th>\n",
       "      <td>7</td>\n",
       "    </tr>\n",
       "    <tr>\n",
       "      <th>760</th>\n",
       "      <td>2</td>\n",
       "    </tr>\n",
       "    <tr>\n",
       "      <th>267</th>\n",
       "      <td>3</td>\n",
       "    </tr>\n",
       "    <tr>\n",
       "      <th>2007</th>\n",
       "      <td>8</td>\n",
       "    </tr>\n",
       "    <tr>\n",
       "      <th>...</th>\n",
       "      <td>...</td>\n",
       "    </tr>\n",
       "    <tr>\n",
       "      <th>1033</th>\n",
       "      <td>1</td>\n",
       "    </tr>\n",
       "    <tr>\n",
       "      <th>1731</th>\n",
       "      <td>17</td>\n",
       "    </tr>\n",
       "    <tr>\n",
       "      <th>763</th>\n",
       "      <td>2</td>\n",
       "    </tr>\n",
       "    <tr>\n",
       "      <th>835</th>\n",
       "      <td>10</td>\n",
       "    </tr>\n",
       "    <tr>\n",
       "      <th>1653</th>\n",
       "      <td>16</td>\n",
       "    </tr>\n",
       "  </tbody>\n",
       "</table>\n",
       "<p>1650 rows × 1 columns</p>\n",
       "</div>"
      ],
      "text/plain": [
       "      label\n",
       "1975      6\n",
       "1287      7\n",
       "760       2\n",
       "267       3\n",
       "2007      8\n",
       "...     ...\n",
       "1033      1\n",
       "1731     17\n",
       "763       2\n",
       "835      10\n",
       "1653     16\n",
       "\n",
       "[1650 rows x 1 columns]"
      ]
     },
     "execution_count": 232,
     "metadata": {},
     "output_type": "execute_result"
    }
   ],
   "source": [
    "y_train"
   ]
  },
  {
   "cell_type": "code",
   "execution_count": 233,
   "id": "9b39dca7",
   "metadata": {},
   "outputs": [
    {
     "data": {
      "text/plain": [
       "array([[0., 0., 0., ..., 0., 0., 0.],\n",
       "       [0., 0., 0., ..., 0., 0., 0.],\n",
       "       [0., 0., 1., ..., 0., 0., 0.],\n",
       "       ...,\n",
       "       [0., 0., 1., ..., 0., 0., 0.],\n",
       "       [0., 0., 0., ..., 0., 0., 0.],\n",
       "       [0., 0., 0., ..., 0., 0., 0.]], dtype=float32)"
      ]
     },
     "execution_count": 233,
     "metadata": {},
     "output_type": "execute_result"
    }
   ],
   "source": [
    "y_train = to_categorical(y_train, 22)\n",
    "y_test = to_categorical(y_test, 22)\n",
    "y_train"
   ]
  },
  {
   "cell_type": "markdown",
   "id": "06fac497",
   "metadata": {},
   "source": [
    "# 4. Model"
   ]
  },
  {
   "cell_type": "code",
   "execution_count": 234,
   "id": "f2a30685",
   "metadata": {},
   "outputs": [],
   "source": [
    "def crop_predection__model():\n",
    "\n",
    "    # Define the model\n",
    "    model = tf.keras.models.Sequential([ \n",
    "      tf.keras.layers.Dense(32 , activation='relu'),\n",
    "      tf.keras.layers.Dense(64 , activation='relu'),\n",
    "      tf.keras.layers.Dense(22 , activation='softmax'),\n",
    "  \n",
    "    ]) \n",
    "\n",
    "\n",
    "    # Compile the model\n",
    "    model.compile(optimizer='adam', \n",
    "                  loss='categorical_crossentropy', \n",
    "                  metrics=['accuracy']) \n",
    "        \n",
    "    return model"
   ]
  },
  {
   "cell_type": "code",
   "execution_count": 235,
   "id": "a5e48727",
   "metadata": {},
   "outputs": [],
   "source": [
    "model =crop_predection__model()"
   ]
  },
  {
   "cell_type": "code",
   "execution_count": 236,
   "id": "f260c664",
   "metadata": {},
   "outputs": [
    {
     "name": "stdout",
     "output_type": "stream",
     "text": [
      "Epoch 1/8\n",
      "52/52 [==============================] - 1s 3ms/step - loss: 13.9621 - accuracy: 0.0982\n",
      "Epoch 2/8\n",
      "52/52 [==============================] - 0s 3ms/step - loss: 1.7720 - accuracy: 0.5024\n",
      "Epoch 3/8\n",
      "52/52 [==============================] - 0s 3ms/step - loss: 0.8784 - accuracy: 0.7091\n",
      "Epoch 4/8\n",
      "52/52 [==============================] - 0s 3ms/step - loss: 0.5633 - accuracy: 0.8121\n",
      "Epoch 5/8\n",
      "52/52 [==============================] - 0s 3ms/step - loss: 0.4005 - accuracy: 0.8764\n",
      "Epoch 6/8\n",
      "52/52 [==============================] - 0s 3ms/step - loss: 0.3248 - accuracy: 0.9079\n",
      "Epoch 7/8\n",
      "52/52 [==============================] - 0s 3ms/step - loss: 0.2857 - accuracy: 0.9170\n",
      "Epoch 8/8\n",
      "52/52 [==============================] - 0s 3ms/step - loss: 0.2589 - accuracy: 0.9145\n"
     ]
    }
   ],
   "source": [
    "history = model.fit(x_train, y_train, epochs=8)"
   ]
  },
  {
   "cell_type": "markdown",
   "id": "056c9f4c",
   "metadata": {},
   "source": [
    "# 5. Testing"
   ]
  },
  {
   "cell_type": "code",
   "execution_count": 237,
   "id": "f8586652",
   "metadata": {},
   "outputs": [
    {
     "name": "stdout",
     "output_type": "stream",
     "text": [
      "11/11 [==============================] - 0s 2ms/step - loss: 0.2516 - accuracy: 0.9164\n"
     ]
    },
    {
     "data": {
      "text/plain": [
       "[0.25162285566329956, 0.9163636565208435]"
      ]
     },
     "execution_count": 237,
     "metadata": {},
     "output_type": "execute_result"
    }
   ],
   "source": [
    "model.evaluate(x_test, y_test, batch_size=50)  "
   ]
  },
  {
   "cell_type": "code",
   "execution_count": 241,
   "id": "08d50c65",
   "metadata": {
    "scrolled": true
   },
   "outputs": [
    {
     "name": "stdout",
     "output_type": "stream",
     "text": [
      "        N   P   K  temperature   humidity        ph   rainfall\n",
      "1975  134  56  18    23.808346  83.919026  6.691268  70.973583\n",
      "1/1 [==============================] - 0s 30ms/step\n"
     ]
    },
    {
     "data": {
      "text/plain": [
       "array([[1.7942151e-11, 4.4482582e-05, 6.9322061e-07, 1.3357239e-09,\n",
       "        1.1497234e-09, 1.6515105e-04, 9.8119295e-01, 2.4364597e-12,\n",
       "        3.9452972e-14, 4.6081352e-09, 1.2870565e-06, 1.8492373e-02,\n",
       "        6.8979466e-07, 8.5543128e-09, 1.0711610e-06, 4.0037797e-08,\n",
       "        4.9067362e-06, 1.1858741e-06, 8.4517937e-10, 3.2870733e-16,\n",
       "        7.2618959e-11, 9.5138566e-05]], dtype=float32)"
      ]
     },
     "execution_count": 241,
     "metadata": {},
     "output_type": "execute_result"
    }
   ],
   "source": [
    "print(x_train.iloc[[0]])\n",
    "pred = model.predict(x_train.iloc[[0]])\n",
    "pred\n",
    "# x_train.iloc[[0]]"
   ]
  },
  {
   "cell_type": "code",
   "execution_count": 239,
   "id": "6fa21b90",
   "metadata": {},
   "outputs": [
    {
     "data": {
      "text/plain": [
       "array([ 6, 11,  5, 21,  1, 16, 10, 17, 14,  2, 12, 15, 13,  9,  3,  4, 18,\n",
       "       20,  0,  7,  8, 19], dtype=int64)"
      ]
     },
     "execution_count": 239,
     "metadata": {},
     "output_type": "execute_result"
    }
   ],
   "source": [
    "max3_values = np.argsort(pred[0])[::-1]\n",
    "max3_values"
   ]
  },
  {
   "cell_type": "code",
   "execution_count": 240,
   "id": "9407c5f5",
   "metadata": {},
   "outputs": [
    {
     "data": {
      "text/plain": [
       "array(['cotton', 'maize', 'coffee', 'watermelon', 'banana', 'orange',\n",
       "       'lentil', 'papaya', 'mungbean', 'blackgram', 'mango', 'muskmelon',\n",
       "       'mothbeans', 'kidneybeans', 'chickpea', 'coconut', 'pigeonpeas',\n",
       "       'rice', 'apple', 'grapes', 'jute', 'pomegranate'], dtype=object)"
      ]
     },
     "execution_count": 240,
     "metadata": {},
     "output_type": "execute_result"
    }
   ],
   "source": [
    "le.inverse_transform(max3_values)"
   ]
  },
  {
   "cell_type": "markdown",
   "id": "084fd036",
   "metadata": {},
   "source": [
    "# Pickle file"
   ]
  },
  {
   "cell_type": "code",
   "execution_count": 225,
   "id": "05d5b67b",
   "metadata": {},
   "outputs": [],
   "source": [
    "# pickle.dump(model, open(\"model.pkl\", \"wb\"))"
   ]
  },
  {
   "cell_type": "code",
   "execution_count": 226,
   "id": "734ee643",
   "metadata": {},
   "outputs": [],
   "source": [
    "# model.save(\"saved_model/crop_predection__model\")"
   ]
  },
  {
   "cell_type": "code",
   "execution_count": 227,
   "id": "1dc40d70",
   "metadata": {},
   "outputs": [],
   "source": [
    "# pickle.dump(model , open(\"model.pkl\" , \"wb\"))\n",
    "model.save(\"my_h5_model.h5\")\n",
    "output = open('Departure_encoder.pkl', 'wb')\n",
    "pickle.dump(le, output)\n",
    "output.close()"
   ]
  },
  {
   "cell_type": "code",
   "execution_count": null,
   "id": "cc7e94c0",
   "metadata": {},
   "outputs": [],
   "source": []
  },
  {
   "cell_type": "code",
   "execution_count": null,
   "id": "7d59f6c7",
   "metadata": {},
   "outputs": [],
   "source": []
  }
 ],
 "metadata": {
  "kernelspec": {
   "display_name": "Python 3 (ipykernel)",
   "language": "python",
   "name": "python3"
  },
  "language_info": {
   "codemirror_mode": {
    "name": "ipython",
    "version": 3
   },
   "file_extension": ".py",
   "mimetype": "text/x-python",
   "name": "python",
   "nbconvert_exporter": "python",
   "pygments_lexer": "ipython3",
   "version": "3.9.12"
  }
 },
 "nbformat": 4,
 "nbformat_minor": 5
}
